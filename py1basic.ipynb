{
 "cells": [
  {
   "cell_type": "markdown",
   "metadata": {},
   "source": [
    "# Python Basics (Sentdex)"
   ]
  },
  {
   "cell_type": "markdown",
   "metadata": {},
   "source": [
    "print statement simply just print anything in the brackets."
   ]
  },
  {
   "cell_type": "code",
   "execution_count": 3,
   "metadata": {},
   "outputs": [
    {
     "name": "stdout",
     "output_type": "stream",
     "text": [
      "Hello World\n"
     ]
    }
   ],
   "source": [
    "# We are just going to print a string.\n",
    "print(\"Hello World\")"
   ]
  },
  {
   "cell_type": "code",
   "execution_count": 2,
   "metadata": {},
   "outputs": [
    {
     "name": "stdout",
     "output_type": "stream",
     "text": [
      "Hello World\n",
      "Hello World\n"
     ]
    }
   ],
   "source": [
    "# we can also use double quotes or 3 double quotes for printing a string.\n",
    "print('Hello World')\n",
    "print(\"\"\"Hello World\"\"\")"
   ]
  },
  {
   "cell_type": "markdown",
   "metadata": {},
   "source": [
    "# variables \n",
    "Everything in python is an object and variables are used just to store one or more objects."
   ]
  },
  {
   "cell_type": "code",
   "execution_count": 5,
   "metadata": {},
   "outputs": [
    {
     "data": {
      "text/plain": [
       "('Python', 'Java', 'C++', 'C')"
      ]
     },
     "execution_count": 5,
     "metadata": {},
     "output_type": "execute_result"
    }
   ],
   "source": [
    "programming_languages = \"Python\", \"Java\", \"C++\", \"C\"\n",
    "programming_languages"
   ]
  },
  {
   "cell_type": "markdown",
   "metadata": {},
   "source": [
    "This is how we define a tuple of objects in python.\n",
    "Tuples are immutable. We cannot change or add or remove anything to them once defined. They are represented in normal brackets."
   ]
  },
  {
   "cell_type": "code",
   "execution_count": 6,
   "metadata": {},
   "outputs": [
    {
     "data": {
      "text/plain": [
       "tuple"
      ]
     },
     "execution_count": 6,
     "metadata": {},
     "output_type": "execute_result"
    }
   ],
   "source": [
    "# We can also check the type of object as \n",
    "type(programming_languages)"
   ]
  },
  {
   "cell_type": "code",
   "execution_count": 7,
   "metadata": {},
   "outputs": [
    {
     "data": {
      "text/plain": [
       "tuple"
      ]
     },
     "execution_count": 7,
     "metadata": {},
     "output_type": "execute_result"
    }
   ],
   "source": [
    "# We can also define a tuple by listing objects in bracket\n",
    "programming_languages = (\"Python\", \"Java\", \"C++\", \"C\")\n",
    "type(programming_languages)"
   ]
  },
  {
   "cell_type": "markdown",
   "metadata": {},
   "source": [
    "# For loop\n",
    "For loop are used to iterate over a list of things stored in something like a tuple."
   ]
  },
  {
   "cell_type": "code",
   "execution_count": 8,
   "metadata": {},
   "outputs": [
    {
     "name": "stdout",
     "output_type": "stream",
     "text": [
      "Python\n",
      "Java\n",
      "C++\n",
      "C\n"
     ]
    }
   ],
   "source": [
    "for languages in programming_languages:\n",
    "    print(languages)"
   ]
  },
  {
   "cell_type": "markdown",
   "metadata": {},
   "source": [
    "# A game of TicTacToe"
   ]
  },
  {
   "cell_type": "code",
   "execution_count": 9,
   "metadata": {},
   "outputs": [],
   "source": [
    "# We will first start with a 3X3 grid. We cannot use tuple here as we need to change the values later.\n",
    "# So we will use lists."
   ]
  },
  {
   "cell_type": "markdown",
   "metadata": {},
   "source": [
    "# Lists\n",
    "Lists can also stores objects like tuples but lists are mutable. We can add or remove or append objects on a list.\n",
    "We define a list by using a square bracket."
   ]
  },
  {
   "cell_type": "code",
   "execution_count": 11,
   "metadata": {},
   "outputs": [
    {
     "name": "stdout",
     "output_type": "stream",
     "text": [
      "[0, 0, 0, 0, 0, 0, 0, 0, 0]\n"
     ]
    }
   ],
   "source": [
    "game = [0,0,0,\n",
    "       0,0,0,\n",
    "       0,0,0,]\n",
    "print(game)"
   ]
  },
  {
   "cell_type": "code",
   "execution_count": 23,
   "metadata": {},
   "outputs": [],
   "source": [
    "# But the representation of this is not like a grid. To solve that we will create a list of list and \n",
    "# then use a for loop to iterate over each list within the list."
   ]
  },
  {
   "cell_type": "code",
   "execution_count": 14,
   "metadata": {},
   "outputs": [
    {
     "name": "stdout",
     "output_type": "stream",
     "text": [
      "[0, 0, 0]\n",
      "[0, 0, 0]\n",
      "[0, 0, 0]\n"
     ]
    }
   ],
   "source": [
    "game = [[0,0,0],\n",
    "       [0,0,0],\n",
    "       [0,0,0]]\n",
    "\n",
    "for row in game:\n",
    "    print(row)"
   ]
  },
  {
   "cell_type": "code",
   "execution_count": 24,
   "metadata": {},
   "outputs": [],
   "source": [
    "# Now that we have a visual representation of a grid. We need to find out a way to allow for user input in x,y manner.\n",
    "# If user type 1,2 then we will mark the 1st row and and 2nd column as X and rest will remain the same."
   ]
  },
  {
   "cell_type": "code",
   "execution_count": 21,
   "metadata": {},
   "outputs": [
    {
     "name": "stdout",
     "output_type": "stream",
     "text": [
      "   0  1  2\n",
      "0 [0, 0, 0]\n",
      "1 [0, 0, 0]\n",
      "2 [0, 0, 0]\n"
     ]
    }
   ],
   "source": [
    "# Now we will provide the column and row in the grid\n",
    "print(\"   0\",\" 1\",\" 2\")\n",
    "count = 0\n",
    "for row in game:\n",
    "    print(count, row)\n",
    "    count += 1"
   ]
  },
  {
   "cell_type": "code",
   "execution_count": 25,
   "metadata": {},
   "outputs": [],
   "source": [
    "# Another way to do that is to use enumerate function. \n",
    "# This function can return both the index and the value that we are iterating over"
   ]
  },
  {
   "cell_type": "code",
   "execution_count": 26,
   "metadata": {},
   "outputs": [
    {
     "name": "stdout",
     "output_type": "stream",
     "text": [
      "   0  1  2\n",
      "0 [0, 0, 0]\n",
      "1 [0, 0, 0]\n",
      "2 [0, 0, 0]\n"
     ]
    }
   ],
   "source": [
    "print(\"   0\",\" 1\",\" 2\")\n",
    "for count,row in enumerate(game):\n",
    "    print(count, row)"
   ]
  },
  {
   "cell_type": "code",
   "execution_count": 27,
   "metadata": {},
   "outputs": [],
   "source": [
    "# Now the next step is to figure out how to modify a specific location that player choose."
   ]
  },
  {
   "cell_type": "markdown",
   "metadata": {},
   "source": [
    "# Indexing"
   ]
  },
  {
   "cell_type": "code",
   "execution_count": 28,
   "metadata": {},
   "outputs": [
    {
     "name": "stdout",
     "output_type": "stream",
     "text": [
      "3\n"
     ]
    }
   ],
   "source": [
    "# For a list of numbers\n",
    "l = [1,3,5,7,9]\n",
    "# We can reach a specific location as follows.\n",
    "print(l[1])\n",
    "# Indexing starts from 0. So, 1 would be the second the position."
   ]
  },
  {
   "cell_type": "code",
   "execution_count": 30,
   "metadata": {},
   "outputs": [
    {
     "name": "stdout",
     "output_type": "stream",
     "text": [
      "9\n"
     ]
    }
   ],
   "source": [
    "# We can also use negetive indexing\n",
    "print(l[-1])\n",
    "# This will return the last element of the list."
   ]
  },
  {
   "cell_type": "markdown",
   "metadata": {},
   "source": [
    "# Slicing\n",
    "Slicing is used to get the values from one index to another and anything between them."
   ]
  },
  {
   "cell_type": "code",
   "execution_count": 31,
   "metadata": {},
   "outputs": [
    {
     "name": "stdout",
     "output_type": "stream",
     "text": [
      "[5, 7]\n"
     ]
    }
   ],
   "source": [
    "print(l[2:4])\n",
    "# Last index is not included"
   ]
  },
  {
   "cell_type": "code",
   "execution_count": 32,
   "metadata": {},
   "outputs": [
    {
     "name": "stdout",
     "output_type": "stream",
     "text": [
      "[5, 7, 9]\n"
     ]
    }
   ],
   "source": [
    "print(l[2:])\n",
    "# For all the values after a specific index."
   ]
  },
  {
   "cell_type": "code",
   "execution_count": 33,
   "metadata": {},
   "outputs": [
    {
     "name": "stdout",
     "output_type": "stream",
     "text": [
      "[1, 3, 5]\n"
     ]
    }
   ],
   "source": [
    "print(l[:3])"
   ]
  },
  {
   "cell_type": "code",
   "execution_count": 34,
   "metadata": {},
   "outputs": [
    {
     "name": "stdout",
     "output_type": "stream",
     "text": [
      "[1, 99, 5, 7, 9]\n"
     ]
    }
   ],
   "source": [
    "# We can modify the values of the list using index\n",
    "l[1] = 99\n",
    "print(l)"
   ]
  },
  {
   "cell_type": "code",
   "execution_count": 36,
   "metadata": {},
   "outputs": [
    {
     "name": "stdout",
     "output_type": "stream",
     "text": [
      "   0  1  2\n",
      "0 [0, 1, 0]\n",
      "1 [0, 0, 0]\n",
      "2 [0, 0, 0]\n"
     ]
    }
   ],
   "source": [
    "# Now in the game, we can change the value using indexing \n",
    "game = [[0,0,0],\n",
    "       [0,0,0],\n",
    "       [0,0,0]]\n",
    "\n",
    "game[0][1] = 1 # This based on where the player wants to play.\n",
    "print(\"   0\",\" 1\",\" 2\")\n",
    "for count,row in enumerate(game):\n",
    "    print(count, row)"
   ]
  },
  {
   "cell_type": "code",
   "execution_count": 37,
   "metadata": {},
   "outputs": [],
   "source": [
    "# Now after every move the player make we need to print the game board to show the current position of the game board.\n",
    "# This repetitive task can be handled using functions."
   ]
  },
  {
   "cell_type": "markdown",
   "metadata": {},
   "source": [
    "# Functions"
   ]
  },
  {
   "cell_type": "code",
   "execution_count": 39,
   "metadata": {},
   "outputs": [],
   "source": [
    "# We can write a function that just simply return the games board. This can be done using 'def'\n",
    "def game_board():\n",
    "    print(\"   0\",\" 1\",\" 2\")\n",
    "    for count,row in enumerate(game):\n",
    "        print(count, row)\n",
    "       "
   ]
  },
  {
   "cell_type": "code",
   "execution_count": 40,
   "metadata": {},
   "outputs": [
    {
     "name": "stdout",
     "output_type": "stream",
     "text": [
      "   0  1  2\n",
      "0 [0, 0, 0]\n",
      "1 [0, 0, 0]\n",
      "2 [0, 0, 0]\n"
     ]
    }
   ],
   "source": [
    "game = [[0,0,0],\n",
    "       [0,0,0],\n",
    "       [0,0,0]]\n",
    "\n",
    "game_board()"
   ]
  },
  {
   "cell_type": "code",
   "execution_count": 41,
   "metadata": {},
   "outputs": [
    {
     "name": "stdout",
     "output_type": "stream",
     "text": [
      "   0  1  2\n",
      "0 [0, 1, 0]\n",
      "1 [0, 0, 0]\n",
      "2 [0, 0, 0]\n"
     ]
    }
   ],
   "source": [
    "game[0][1] = 1 # This based on where the player wants to play.\n",
    "\n",
    "game_board()"
   ]
  },
  {
   "cell_type": "code",
   "execution_count": 42,
   "metadata": {},
   "outputs": [],
   "source": [
    "# We can also include some parameters in the function and make it more useful.\n",
    "def game_board(player, row, column):\n",
    "    game[row][column] = player\n",
    "    print(\"   0\",\" 1\",\" 2\")\n",
    "    for count,row in enumerate(game):\n",
    "        print(count, row)    \n",
    "\n",
    "# We can also provide some default value to the function like 0."
   ]
  },
  {
   "cell_type": "code",
   "execution_count": 43,
   "metadata": {},
   "outputs": [
    {
     "name": "stdout",
     "output_type": "stream",
     "text": [
      "   0  1  2\n",
      "0 [2, 0, 0]\n",
      "1 [0, 0, 0]\n",
      "2 [0, 0, 0]\n"
     ]
    }
   ],
   "source": [
    "game = [[0,0,0],\n",
    "       [0,0,0],\n",
    "       [0,0,0]]\n",
    "\n",
    "game_board(2,0,0)"
   ]
  },
  {
   "cell_type": "code",
   "execution_count": 45,
   "metadata": {},
   "outputs": [
    {
     "name": "stdout",
     "output_type": "stream",
     "text": [
      "   0  1  2\n",
      "0 [0, 0, 0]\n",
      "1 [0, 0, 0]\n",
      "2 [0, 0, 0]\n"
     ]
    }
   ],
   "source": [
    "# If we provide default value to the function we can also run it without passing any values to the parameters.\n",
    "def game_board(player = 0, row = 0, column = 0):\n",
    "    game[row][column] = player\n",
    "    print(\"   0\",\" 1\",\" 2\")\n",
    "    for count,row in enumerate(game):\n",
    "        print(count, row) \n",
    "        \n",
    "game = [[0,0,0],\n",
    "       [0,0,0],\n",
    "       [0,0,0]]\n",
    "\n",
    "game_board()        "
   ]
  },
  {
   "cell_type": "code",
   "execution_count": 47,
   "metadata": {},
   "outputs": [],
   "source": [
    "# Now another thing we need to take care of is what if the specified location is already occupied.\n",
    "# Our current function simply going to replace that position.\n",
    "# We can use another parameter that just helps function decide whether to make a change in the game board or not.\n",
    "def game_board(player = 0, row = 0, column = 0, just_display = False):\n",
    "    print(\"   0\",\" 1\",\" 2\")\n",
    "    if not just_display:\n",
    "        game[row][column] = player\n",
    "    for count,row in enumerate(game):\n",
    "        print(count, row) "
   ]
  },
  {
   "cell_type": "code",
   "execution_count": 48,
   "metadata": {},
   "outputs": [
    {
     "name": "stdout",
     "output_type": "stream",
     "text": [
      "   0  1  2\n",
      "0 [0, 0, 0]\n",
      "1 [0, 0, 0]\n",
      "2 [0, 0, 0]\n"
     ]
    }
   ],
   "source": [
    "game_board(just_display = True)"
   ]
  },
  {
   "cell_type": "code",
   "execution_count": 49,
   "metadata": {},
   "outputs": [
    {
     "name": "stdout",
     "output_type": "stream",
     "text": [
      "   0  1  2\n",
      "0 [0, 0, 0]\n",
      "1 [0, 0, 0]\n",
      "2 [0, 1, 0]\n"
     ]
    }
   ],
   "source": [
    "game_board(player = 1, row = 2, column = 1)"
   ]
  },
  {
   "cell_type": "markdown",
   "metadata": {},
   "source": [
    "# Mutability"
   ]
  },
  {
   "cell_type": "code",
   "execution_count": 51,
   "metadata": {},
   "outputs": [
    {
     "name": "stdout",
     "output_type": "stream",
     "text": [
      "Game\n",
      "This is a game\n"
     ]
    }
   ],
   "source": [
    "#We cannot change immutable objects. We can only change a value of an \n",
    "game = \"This is a game\" # This is immutable\n",
    "def game_board():\n",
    "    game = \"Game\"\n",
    "    print(game)\n",
    "\n",
    "game_board()\n",
    "print(game)"
   ]
  },
  {
   "cell_type": "code",
   "execution_count": 52,
   "metadata": {},
   "outputs": [
    {
     "name": "stdout",
     "output_type": "stream",
     "text": [
      "4596823664\n",
      "4596714832\n",
      "Game\n",
      "This is a game\n",
      "4596823664\n"
     ]
    }
   ],
   "source": [
    "# This happened because the strings are immutable. \n",
    "# We can also see the change using id() function\n",
    "game = \"This is a game\"\n",
    "print(id(game))\n",
    "def game_board():\n",
    "    game = \"Game\"\n",
    "    print(id(game))\n",
    "    print(game)\n",
    "\n",
    "game_board()\n",
    "print(game)\n",
    "print(id(game))"
   ]
  },
  {
   "cell_type": "code",
   "execution_count": 53,
   "metadata": {},
   "outputs": [
    {
     "name": "stdout",
     "output_type": "stream",
     "text": [
      "4596823920\n",
      "Game\n",
      "Game\n"
     ]
    }
   ],
   "source": [
    "# The id of the game variable in the function is different than the game variable outside the function.\n",
    "# We can only modify an object in the function but we cannot change the object itself.\n",
    "# if we still want to do that we make a variable global in the function.\n",
    "# Example:-\n",
    "game = \"This is a game\"\n",
    "def game_board():\n",
    "    global game # We are making a globally accessible variable.\n",
    "    game = \"Game\"\n",
    "    print(game)\n",
    "\n",
    "game_board()\n",
    "print(game)"
   ]
  },
  {
   "cell_type": "code",
   "execution_count": 54,
   "metadata": {},
   "outputs": [
    {
     "name": "stdout",
     "output_type": "stream",
     "text": [
      "4596824112\n",
      "4596714832\n",
      "Game\n",
      "Game\n",
      "4596714832\n"
     ]
    }
   ],
   "source": [
    "game = \"This is a game\"\n",
    "print(id(game))\n",
    "def game_board():\n",
    "    global game # We are making a globally accessible variable.\n",
    "    game = \"Game\"\n",
    "    print(id(game))\n",
    "    print(game)\n",
    "\n",
    "game_board()\n",
    "print(game)\n",
    "print(id(game))"
   ]
  },
  {
   "cell_type": "code",
   "execution_count": 55,
   "metadata": {},
   "outputs": [],
   "source": [
    "# Now we see that the game variable has retained the id from the function."
   ]
  },
  {
   "cell_type": "markdown",
   "metadata": {},
   "source": [
    "# Error handling\n",
    "Some common errors in Python and how to use try and except to handle them."
   ]
  },
  {
   "cell_type": "code",
   "execution_count": 57,
   "metadata": {},
   "outputs": [
    {
     "ename": "IndexError",
     "evalue": "list assignment index out of range",
     "output_type": "error",
     "traceback": [
      "\u001b[0;31m---------------------------------------------------------------------------\u001b[0m",
      "\u001b[0;31mIndexError\u001b[0m                                Traceback (most recent call last)",
      "\u001b[0;32m<ipython-input-57-3f1fdb9db845>\u001b[0m in \u001b[0;36m<module>\u001b[0;34m()\u001b[0m\n\u001b[1;32m     11\u001b[0m        [0,0,0]]\n\u001b[1;32m     12\u001b[0m \u001b[0;34m\u001b[0m\u001b[0m\n\u001b[0;32m---> 13\u001b[0;31m \u001b[0mgame_board\u001b[0m\u001b[0;34m(\u001b[0m\u001b[0mplayer\u001b[0m \u001b[0;34m=\u001b[0m \u001b[0;36m1\u001b[0m\u001b[0;34m,\u001b[0m \u001b[0mrow\u001b[0m \u001b[0;34m=\u001b[0m \u001b[0;36m1\u001b[0m\u001b[0;34m,\u001b[0m \u001b[0mcolumn\u001b[0m \u001b[0;34m=\u001b[0m \u001b[0;36m3\u001b[0m\u001b[0;34m)\u001b[0m\u001b[0;34m\u001b[0m\u001b[0m\n\u001b[0m",
      "\u001b[0;32m<ipython-input-57-3f1fdb9db845>\u001b[0m in \u001b[0;36mgame_board\u001b[0;34m(player, row, column)\u001b[0m\n\u001b[1;32m      2\u001b[0m \u001b[0;31m# This happens when we want to access an index that do not exist in a particluar object.\u001b[0m\u001b[0;34m\u001b[0m\u001b[0;34m\u001b[0m\u001b[0m\n\u001b[1;32m      3\u001b[0m \u001b[0;32mdef\u001b[0m \u001b[0mgame_board\u001b[0m\u001b[0;34m(\u001b[0m\u001b[0mplayer\u001b[0m \u001b[0;34m=\u001b[0m \u001b[0;36m0\u001b[0m\u001b[0;34m,\u001b[0m \u001b[0mrow\u001b[0m \u001b[0;34m=\u001b[0m \u001b[0;36m0\u001b[0m\u001b[0;34m,\u001b[0m \u001b[0mcolumn\u001b[0m \u001b[0;34m=\u001b[0m \u001b[0;36m0\u001b[0m\u001b[0;34m)\u001b[0m\u001b[0;34m:\u001b[0m\u001b[0;34m\u001b[0m\u001b[0m\n\u001b[0;32m----> 4\u001b[0;31m     \u001b[0mgame\u001b[0m\u001b[0;34m[\u001b[0m\u001b[0mrow\u001b[0m\u001b[0;34m]\u001b[0m\u001b[0;34m[\u001b[0m\u001b[0mcolumn\u001b[0m\u001b[0;34m]\u001b[0m \u001b[0;34m=\u001b[0m \u001b[0mplayer\u001b[0m\u001b[0;34m\u001b[0m\u001b[0m\n\u001b[0m\u001b[1;32m      5\u001b[0m     \u001b[0mprint\u001b[0m\u001b[0;34m(\u001b[0m\u001b[0;34m\"   0\"\u001b[0m\u001b[0;34m,\u001b[0m\u001b[0;34m\" 1\"\u001b[0m\u001b[0;34m,\u001b[0m\u001b[0;34m\" 2\"\u001b[0m\u001b[0;34m)\u001b[0m\u001b[0;34m\u001b[0m\u001b[0m\n\u001b[1;32m      6\u001b[0m     \u001b[0;32mfor\u001b[0m \u001b[0mcount\u001b[0m\u001b[0;34m,\u001b[0m\u001b[0mrow\u001b[0m \u001b[0;32min\u001b[0m \u001b[0menumerate\u001b[0m\u001b[0;34m(\u001b[0m\u001b[0mgame\u001b[0m\u001b[0;34m)\u001b[0m\u001b[0;34m:\u001b[0m\u001b[0;34m\u001b[0m\u001b[0m\n",
      "\u001b[0;31mIndexError\u001b[0m: list assignment index out of range"
     ]
    }
   ],
   "source": [
    "# One of the most common error that happen is Index Error. \n",
    "# This happens when we want to access an index that do not exist in a particluar object.\n",
    "def game_board(player = 0, row = 0, column = 0):\n",
    "    game[row][column] = player\n",
    "    print(\"   0\",\" 1\",\" 2\")\n",
    "    for count,row in enumerate(game):\n",
    "        print(count, row) \n",
    "        \n",
    "game = [[0,0,0],\n",
    "       [0,0,0],\n",
    "       [0,0,0]]\n",
    "\n",
    "game_board(player = 1, row = 1, column = 3) # The maximum index available is 2."
   ]
  },
  {
   "cell_type": "code",
   "execution_count": 60,
   "metadata": {},
   "outputs": [
    {
     "name": "stdout",
     "output_type": "stream",
     "text": [
      "Row and column should be between 0 and 2. list assignment index out of range\n"
     ]
    }
   ],
   "source": [
    "# We can use try and except to show a better message.\n",
    "def game_board(player = 0, row = 0, column = 0):\n",
    "    try :\n",
    "        game[row][column] = player\n",
    "        print(\"   0\",\" 1\",\" 2\")\n",
    "        for count,row in enumerate(game):\n",
    "            print(count, row)\n",
    "    except IndexError as e:\n",
    "        print(\"Row and column should be between 0 and 2.\",e)\n",
    "        \n",
    "game_board(player = 1, row = 1, column = 3)"
   ]
  },
  {
   "cell_type": "code",
   "execution_count": 63,
   "metadata": {},
   "outputs": [
    {
     "ename": "TypeError",
     "evalue": "'function' object is not subscriptable",
     "output_type": "error",
     "traceback": [
      "\u001b[0;31m---------------------------------------------------------------------------\u001b[0m",
      "\u001b[0;31mTypeError\u001b[0m                                 Traceback (most recent call last)",
      "\u001b[0;32m<ipython-input-63-c89308685217>\u001b[0m in \u001b[0;36m<module>\u001b[0;34m()\u001b[0m\n\u001b[1;32m     10\u001b[0m         \u001b[0mprint\u001b[0m\u001b[0;34m(\u001b[0m\u001b[0;34m\"Row and column should be between 0 and 2.\"\u001b[0m\u001b[0;34m,\u001b[0m\u001b[0me\u001b[0m\u001b[0;34m)\u001b[0m\u001b[0;34m\u001b[0m\u001b[0m\n\u001b[1;32m     11\u001b[0m \u001b[0;34m\u001b[0m\u001b[0m\n\u001b[0;32m---> 12\u001b[0;31m \u001b[0mgame_board\u001b[0m\u001b[0;34m(\u001b[0m\u001b[0mgame_board\u001b[0m\u001b[0;34m,\u001b[0m \u001b[0mplayer\u001b[0m \u001b[0;34m=\u001b[0m \u001b[0;36m1\u001b[0m\u001b[0;34m,\u001b[0m \u001b[0mrow\u001b[0m \u001b[0;34m=\u001b[0m \u001b[0;36m1\u001b[0m\u001b[0;34m,\u001b[0m \u001b[0mcolumn\u001b[0m \u001b[0;34m=\u001b[0m \u001b[0;36m2\u001b[0m\u001b[0;34m)\u001b[0m\u001b[0;34m\u001b[0m\u001b[0m\n\u001b[0m\u001b[1;32m     13\u001b[0m \u001b[0;31m# game_board is function which is not returning anything so that is going to throw an error.\u001b[0m\u001b[0;34m\u001b[0m\u001b[0;34m\u001b[0m\u001b[0m\n",
      "\u001b[0;32m<ipython-input-63-c89308685217>\u001b[0m in \u001b[0;36mgame_board\u001b[0;34m(game, player, row, column)\u001b[0m\n\u001b[1;32m      3\u001b[0m \u001b[0;32mdef\u001b[0m \u001b[0mgame_board\u001b[0m\u001b[0;34m(\u001b[0m\u001b[0mgame\u001b[0m\u001b[0;34m,\u001b[0m \u001b[0mplayer\u001b[0m \u001b[0;34m=\u001b[0m \u001b[0;36m0\u001b[0m\u001b[0;34m,\u001b[0m \u001b[0mrow\u001b[0m \u001b[0;34m=\u001b[0m \u001b[0;36m0\u001b[0m\u001b[0;34m,\u001b[0m \u001b[0mcolumn\u001b[0m \u001b[0;34m=\u001b[0m \u001b[0;36m0\u001b[0m\u001b[0;34m)\u001b[0m\u001b[0;34m:\u001b[0m\u001b[0;34m\u001b[0m\u001b[0m\n\u001b[1;32m      4\u001b[0m     \u001b[0;32mtry\u001b[0m \u001b[0;34m:\u001b[0m\u001b[0;34m\u001b[0m\u001b[0m\n\u001b[0;32m----> 5\u001b[0;31m         \u001b[0mgame\u001b[0m\u001b[0;34m[\u001b[0m\u001b[0mrow\u001b[0m\u001b[0;34m]\u001b[0m\u001b[0;34m[\u001b[0m\u001b[0mcolumn\u001b[0m\u001b[0;34m]\u001b[0m \u001b[0;34m=\u001b[0m \u001b[0mplayer\u001b[0m\u001b[0;34m\u001b[0m\u001b[0m\n\u001b[0m\u001b[1;32m      6\u001b[0m         \u001b[0mprint\u001b[0m\u001b[0;34m(\u001b[0m\u001b[0;34m\"   0\"\u001b[0m\u001b[0;34m,\u001b[0m\u001b[0;34m\" 1\"\u001b[0m\u001b[0;34m,\u001b[0m\u001b[0;34m\" 2\"\u001b[0m\u001b[0;34m)\u001b[0m\u001b[0;34m\u001b[0m\u001b[0m\n\u001b[1;32m      7\u001b[0m         \u001b[0;32mfor\u001b[0m \u001b[0mcount\u001b[0m\u001b[0;34m,\u001b[0m\u001b[0mrow\u001b[0m \u001b[0;32min\u001b[0m \u001b[0menumerate\u001b[0m\u001b[0;34m(\u001b[0m\u001b[0mgame\u001b[0m\u001b[0;34m)\u001b[0m\u001b[0;34m:\u001b[0m\u001b[0;34m\u001b[0m\u001b[0m\n",
      "\u001b[0;31mTypeError\u001b[0m: 'function' object is not subscriptable"
     ]
    }
   ],
   "source": [
    "# We can add as many except statement as we want. \n",
    "# Let's rewrite the function as \n",
    "def game_board(game, player = 0, row = 0, column = 0):\n",
    "    try :\n",
    "        game[row][column] = player\n",
    "        print(\"   0\",\" 1\",\" 2\")\n",
    "        for count,row in enumerate(game):\n",
    "            print(count, row)\n",
    "    except IndexError as e:\n",
    "        print(\"Row and column should be between 0 and 2.\",e)\n",
    "        \n",
    "game_board(game_board, player = 1, row = 1, column = 2) \n",
    "# game_board is function which is not returning anything so that is going to throw an error."
   ]
  },
  {
   "cell_type": "code",
   "execution_count": 65,
   "metadata": {},
   "outputs": [
    {
     "name": "stdout",
     "output_type": "stream",
     "text": [
      "Something went very wrong!!! 'function' object is not subscriptable\n"
     ]
    }
   ],
   "source": [
    "# We can handle that error with another except.\n",
    "def game_board(game, player = 0, row = 0, column = 0):\n",
    "    try :\n",
    "        game[row][column] = player\n",
    "        print(\"   0\",\" 1\",\" 2\")\n",
    "        for count,row in enumerate(game):\n",
    "            print(count, row)\n",
    "    except IndexError as e:\n",
    "        print(\"Row and column should be between 0 and 2.\",e)\n",
    "    except Exception as e:\n",
    "        print(\"Something went very wrong!!!\",e)\n",
    "        \n",
    "game_board(game_board, player = 1, row = 1, column = 2) "
   ]
  },
  {
   "cell_type": "markdown",
   "metadata": {},
   "source": [
    "# Deciding winner for TicTacToe"
   ]
  },
  {
   "cell_type": "code",
   "execution_count": 67,
   "metadata": {},
   "outputs": [
    {
     "name": "stdout",
     "output_type": "stream",
     "text": [
      "[1, 1, 1]\n",
      "Winner\n",
      "[0, 2, 2]\n",
      "[0, 0, 0]\n"
     ]
    }
   ],
   "source": [
    "# Horizontal Winner\n",
    "# Horizontal winner if any of the row has the same number.\n",
    "# Let's just assume a state of the game\n",
    "game = [[1,1,1],\n",
    "       [0,2,2],\n",
    "       [0,0,0]]\n",
    "def win(current_game):\n",
    "    for row in current_game:\n",
    "        print(row)\n",
    "        if row.count(row[0]) == len(row) and row[0] != 0: \n",
    "        #count function count the no. of occurrences of row[0] in the list row.\n",
    "            print(\"Winner\")\n",
    "            \n",
    "win(game)"
   ]
  },
  {
   "cell_type": "code",
   "execution_count": 74,
   "metadata": {},
   "outputs": [
    {
     "name": "stdout",
     "output_type": "stream",
     "text": [
      "Winner\n"
     ]
    }
   ],
   "source": [
    "# Vertical Winner\n",
    "game = [[1,0,1],\n",
    "       [0,2,1],\n",
    "       [1,0,1]]\n",
    "\n",
    "# We need to iterate through index first. Then through each row to get a vertical column.\n",
    "for col in range(len(game)):\n",
    "    check = []\n",
    "    for row in game:\n",
    "        check.append(row[col])\n",
    "    if check.count(check[0]) == len(check):\n",
    "        print(\"Winner\")"
   ]
  },
  {
   "cell_type": "code",
   "execution_count": 82,
   "metadata": {},
   "outputs": [
    {
     "name": "stdout",
     "output_type": "stream",
     "text": [
      "[1, 0, 1]\n",
      "[2, 2, 2]\n",
      "Player 2 is the winner horizontally\n",
      "[1, 0, 1]\n"
     ]
    }
   ],
   "source": [
    "# Combining both the results we get\n",
    "game = [[1,0,1],\n",
    "       [2,2,2],\n",
    "       [1,0,1]]\n",
    "\n",
    "def win(current_game):\n",
    "    for row in current_game:\n",
    "        print(row)\n",
    "        if row.count(row[0]) == len(row) and row[0] != 0: \n",
    "        #count function count the no. of occurrences of row[0] in the list row.\n",
    "            print(f\"Player {row[0]} is the winner horizontally\")\n",
    "            \n",
    "    for col in range(len(current_game)):\n",
    "        check = []\n",
    "        for row in current_game:\n",
    "            check.append(row[col])\n",
    "        if check.count(check[0]) == len(check):\n",
    "            print(f\"Player {check[0]} is the winner vertically\")\n",
    "            \n",
    "win(game)"
   ]
  },
  {
   "cell_type": "code",
   "execution_count": 88,
   "metadata": {},
   "outputs": [
    {
     "name": "stdout",
     "output_type": "stream",
     "text": [
      "Winner\n"
     ]
    }
   ],
   "source": [
    "# Diagonal Winner\n",
    "# There are 2 diagonals. One have the same index for row and column.\n",
    "game = [[1,0,1],\n",
    "       [2,1,2],\n",
    "       [1,0,1]]\n",
    "diag = []\n",
    "for ix in range(len(game)):\n",
    "    diag.append(game[ix][ix])\n",
    "    \n",
    "if diag.count(diag[0]) == len(diag) and diag[0] != 0:\n",
    "    print(\"Winner\")"
   ]
  },
  {
   "cell_type": "code",
   "execution_count": 89,
   "metadata": {},
   "outputs": [],
   "source": [
    "# now the other diagonal we have column index increasing as 0,1,2 and row decreasing as 2,0,1"
   ]
  },
  {
   "cell_type": "code",
   "execution_count": 90,
   "metadata": {},
   "outputs": [
    {
     "name": "stdout",
     "output_type": "stream",
     "text": [
      "2\n",
      "1\n",
      "0\n"
     ]
    }
   ],
   "source": [
    "# We need to iterate backwards over the range, we can do that using reversed() function.\n",
    "for i in reversed(range(len(game))):\n",
    "    print(i)"
   ]
  },
  {
   "cell_type": "code",
   "execution_count": 96,
   "metadata": {},
   "outputs": [
    {
     "ename": "TypeError",
     "evalue": "'range_iterator' object is not subscriptable",
     "output_type": "error",
     "traceback": [
      "\u001b[0;31m---------------------------------------------------------------------------\u001b[0m",
      "\u001b[0;31mTypeError\u001b[0m                                 Traceback (most recent call last)",
      "\u001b[0;32m<ipython-input-96-ab3ccce1cdc4>\u001b[0m in \u001b[0;36m<module>\u001b[0;34m()\u001b[0m\n\u001b[1;32m      3\u001b[0m \u001b[0mcols\u001b[0m \u001b[0;34m=\u001b[0m \u001b[0mreversed\u001b[0m\u001b[0;34m(\u001b[0m\u001b[0mrange\u001b[0m\u001b[0;34m(\u001b[0m\u001b[0mlen\u001b[0m\u001b[0;34m(\u001b[0m\u001b[0mgame\u001b[0m\u001b[0;34m)\u001b[0m\u001b[0;34m)\u001b[0m\u001b[0;34m)\u001b[0m\u001b[0;34m\u001b[0m\u001b[0m\n\u001b[1;32m      4\u001b[0m \u001b[0;32mfor\u001b[0m \u001b[0midx\u001b[0m \u001b[0;32min\u001b[0m \u001b[0mrows\u001b[0m\u001b[0;34m:\u001b[0m\u001b[0;34m\u001b[0m\u001b[0m\n\u001b[0;32m----> 5\u001b[0;31m     \u001b[0mprint\u001b[0m\u001b[0;34m(\u001b[0m\u001b[0midx\u001b[0m\u001b[0;34m,\u001b[0m\u001b[0mcols\u001b[0m\u001b[0;34m[\u001b[0m\u001b[0midx\u001b[0m\u001b[0;34m]\u001b[0m\u001b[0;34m)\u001b[0m \u001b[0;31m# This is going to show an error because reversed function returns a iterator but not a sequence.\u001b[0m\u001b[0;34m\u001b[0m\u001b[0m\n\u001b[0m",
      "\u001b[0;31mTypeError\u001b[0m: 'range_iterator' object is not subscriptable"
     ]
    }
   ],
   "source": [
    "# Now we need to combine the rows and column so that we can iterate over the combination.\n",
    "rows= range(len(game))\n",
    "cols = reversed(range(len(game)))\n",
    "for idx in rows:\n",
    "    print(idx,cols[idx]) # This is going to show an error because reversed function returns a iterator but not a sequence.\n"
   ]
  },
  {
   "cell_type": "code",
   "execution_count": 99,
   "metadata": {},
   "outputs": [
    {
     "name": "stdout",
     "output_type": "stream",
     "text": [
      "0 2\n",
      "1 1\n",
      "2 0\n"
     ]
    }
   ],
   "source": [
    "rows= range(len(game))\n",
    "cols = list(reversed(range(len(game)))) # we need a list function to convert it into a list.\n",
    "for idx in rows:\n",
    "    print(idx,cols[idx])"
   ]
  },
  {
   "cell_type": "code",
   "execution_count": 102,
   "metadata": {},
   "outputs": [
    {
     "name": "stdout",
     "output_type": "stream",
     "text": [
      "2 0\n",
      "1 1\n",
      "0 2\n"
     ]
    }
   ],
   "source": [
    "# Another way of doing it is to use zip function.\n",
    "rows= range(len(game))\n",
    "cols = list(reversed(range(len(game)))) # we need a list function to convert it into a list.\n",
    "for row, col in zip(rows,cols):\n",
    "    print(col,row)"
   ]
  },
  {
   "cell_type": "code",
   "execution_count": 104,
   "metadata": {},
   "outputs": [
    {
     "name": "stdout",
     "output_type": "stream",
     "text": [
      "0 2\n",
      "1 1\n",
      "2 0\n"
     ]
    }
   ],
   "source": [
    "# Another way to do that is using enumerate function on reversed list\n",
    "for row, col in enumerate(reversed(range(len(game)))):\n",
    "    print(row,col)"
   ]
  },
  {
   "cell_type": "code",
   "execution_count": 106,
   "metadata": {},
   "outputs": [
    {
     "name": "stdout",
     "output_type": "stream",
     "text": [
      "Winner\n"
     ]
    }
   ],
   "source": [
    "game = [[1,0,1],\n",
    "       [2,1,2],\n",
    "       [1,0,0]]\n",
    "diag = []\n",
    "\n",
    "for idx,reverse_idx in enumerate(reversed(range(len(game)))):\n",
    "    diag.append(game[idx][reverse_idx])\n",
    "    \n",
    "if diag.count(diag[0]) == len(diag) and diag[0] != 0:\n",
    "    print(\"Winner\")"
   ]
  },
  {
   "cell_type": "code",
   "execution_count": 107,
   "metadata": {},
   "outputs": [
    {
     "name": "stdout",
     "output_type": "stream",
     "text": [
      "Winner\n",
      "Winner\n"
     ]
    }
   ],
   "source": [
    "# Let's combine both diagonal winner codes\n",
    "game = [[1,0,1],\n",
    "       [2,1,2],\n",
    "       [1,0,1]]\n",
    "diag = []\n",
    "for ix in range(len(game)):\n",
    "    diag.append(game[ix][ix])\n",
    "    \n",
    "if diag.count(diag[0]) == len(diag) and diag[0] != 0:\n",
    "    print(\"Winner\")\n",
    "    \n",
    "diag = []\n",
    "\n",
    "for idx,reverse_idx in enumerate(reversed(range(len(game)))):\n",
    "    diag.append(game[idx][reverse_idx])\n",
    "    \n",
    "if diag.count(diag[0]) == len(diag) and diag[0] != 0:\n",
    "    print(\"Winner\")"
   ]
  },
  {
   "cell_type": "code",
   "execution_count": 110,
   "metadata": {},
   "outputs": [
    {
     "name": "stdout",
     "output_type": "stream",
     "text": [
      "[1, 0, 1]\n",
      "[2, 1, 2]\n",
      "[1, 0, 0]\n",
      "Player 1 is the winner diagonally\n"
     ]
    }
   ],
   "source": [
    "# Let's combine all the possible winner together\n",
    "game = [[1,0,1],\n",
    "       [2,1,2],\n",
    "       [1,0,0]]\n",
    "\n",
    "def win(current_game):\n",
    "    for row in current_game:\n",
    "        print(row)\n",
    "        if row.count(row[0]) == len(row) and row[0] != 0: \n",
    "        #count function count the no. of occurrences of row[0] in the list row.\n",
    "            print(f\"Player {row[0]} is the winner horizontally\")\n",
    "            \n",
    "    for col in range(len(current_game)):\n",
    "        check = []\n",
    "        for row in current_game:\n",
    "            check.append(row[col])\n",
    "        if check.count(check[0]) == len(check):\n",
    "            print(f\"Player {check[0]} is the winner vertically\")\n",
    "    \n",
    "    diag = []\n",
    "    for ix in range(len(current_game)):\n",
    "        diag.append(current_game[ix][ix])\n",
    "    \n",
    "    if diag.count(diag[0]) == len(diag) and diag[0] != 0:\n",
    "        print(f\"Player {diag[0]} is the winner diagonally\")\n",
    "            \n",
    "    diag = []\n",
    "\n",
    "    for idx,reverse_idx in enumerate(reversed(range(len(current_game)))):\n",
    "        diag.append(current_game[idx][reverse_idx])\n",
    "\n",
    "    if diag.count(diag[0]) == len(diag) and diag[0] != 0:\n",
    "        print(f\"Player {diag[0]} is the winner diagonally\")\n",
    "        \n",
    "win(game)"
   ]
  },
  {
   "cell_type": "code",
   "execution_count": 124,
   "metadata": {},
   "outputs": [
    {
     "name": "stdout",
     "output_type": "stream",
     "text": [
      "[1, 0, 1]\n",
      "[2, 0, 1]\n",
      "[0, 0, 1]\n",
      "Player 1 is the winner vertically\n"
     ]
    }
   ],
   "source": [
    "# Now we need to combine the game board and the win function together and allow for user input.\n",
    "\n",
    "game = [[1,0,1],\n",
    "       [2,0,1],\n",
    "       [0,0,1]]\n",
    "\n",
    "def win(current_game):\n",
    "    # Horizontal\n",
    "    for row in current_game:\n",
    "        print(row)\n",
    "        if row.count(row[0]) == len(row) and row[0] != 0: \n",
    "        #count function count the no. of occurrences of row[0] in the list row.\n",
    "            print(f\"Player {row[0]} is the winner horizontally\")\n",
    "    \n",
    "    # Vertical\n",
    "    for col in range(len(current_game)):\n",
    "        check = []\n",
    "        for row in current_game:\n",
    "            check.append(row[col])\n",
    "        if check.count(check[0]) == len(check) and check[0] != 0:\n",
    "            print(f\"Player {check[0]} is the winner vertically\")\n",
    "    \n",
    "    #Diagonal\n",
    "    diag = []\n",
    "    for ix in range(len(current_game)):\n",
    "        diag.append(current_game[ix][ix])\n",
    "    \n",
    "    if diag.count(diag[0]) == len(diag) and diag[0] != 0:\n",
    "        print(f\"Player {diag[0]} is the winner diagonally (\\\\)\")\n",
    "            \n",
    "    diag = []\n",
    "\n",
    "    for idx,reverse_idx in enumerate(reversed(range(len(current_game)))):\n",
    "        diag.append(current_game[idx][reverse_idx])\n",
    "\n",
    "    if diag.count(diag[0]) == len(diag) and diag[0] != 0:\n",
    "        print(f\"Player {diag[0]} is the winner diagonally (/)\")\n",
    "\n",
    "def game_board(game, player = 0, row = 0, column = 0, just_display = False):\n",
    "    try :\n",
    "        game[row][column] = player\n",
    "        print(\"   0\",\" 1\",\" 2\")\n",
    "        for count,row in enumerate(game):\n",
    "            print(count, row)\n",
    "        return(game)\n",
    "    except IndexError as e:\n",
    "        print(\"Row and column should be between 0 and 2.\",e)\n",
    "    except Exception as e:\n",
    "        print(\"Something went very wrong!!!\",e)\n",
    "        \n",
    "\n",
    "win(game)"
   ]
  },
  {
   "cell_type": "markdown",
   "metadata": {},
   "source": [
    "# User input for the game"
   ]
  },
  {
   "cell_type": "code",
   "execution_count": 126,
   "metadata": {},
   "outputs": [],
   "source": [
    "# Now let's start with the user input for the game."
   ]
  },
  {
   "cell_type": "code",
   "execution_count": 125,
   "metadata": {},
   "outputs": [
    {
     "name": "stdout",
     "output_type": "stream",
     "text": [
      "   0  1  2\n",
      "0 [0, 0, 0]\n",
      "1 [0, 0, 0]\n",
      "2 [0, 0, 0]\n",
      "Which column do you wants to play? (0,1,2): 0\n",
      "Which row do you wants to play? (0,1,2): 0\n",
      "   0  1  2\n",
      "0 [1, 0, 0]\n",
      "1 [0, 0, 0]\n",
      "2 [0, 0, 0]\n",
      "Which column do you wants to play? (0,1,2): 1\n",
      "Which row do you wants to play? (0,1,2): 1\n",
      "   0  1  2\n",
      "0 [1, 0, 0]\n",
      "1 [0, 1, 0]\n",
      "2 [0, 0, 0]\n",
      "Which column do you wants to play? (0,1,2): 2\n",
      "Which row do you wants to play? (0,1,2): 2\n",
      "   0  1  2\n",
      "0 [1, 0, 0]\n",
      "1 [0, 1, 0]\n",
      "2 [0, 0, 1]\n",
      "Which column do you wants to play? (0,1,2): 3\n",
      "Which row do you wants to play? (0,1,2): 2\n",
      "Row and column should be between 0 and 2. list assignment index out of range\n"
     ]
    },
    {
     "ename": "KeyboardInterrupt",
     "evalue": "",
     "output_type": "error",
     "traceback": [
      "\u001b[0;31m---------------------------------------------------------------------------\u001b[0m",
      "\u001b[0;31mKeyboardInterrupt\u001b[0m                         Traceback (most recent call last)",
      "\u001b[0;32m~/anaconda3/lib/python3.6/site-packages/ipykernel/kernelbase.py\u001b[0m in \u001b[0;36m_input_request\u001b[0;34m(self, prompt, ident, parent, password)\u001b[0m\n\u001b[1;32m    728\u001b[0m             \u001b[0;32mtry\u001b[0m\u001b[0;34m:\u001b[0m\u001b[0;34m\u001b[0m\u001b[0m\n\u001b[0;32m--> 729\u001b[0;31m                 \u001b[0mident\u001b[0m\u001b[0;34m,\u001b[0m \u001b[0mreply\u001b[0m \u001b[0;34m=\u001b[0m \u001b[0mself\u001b[0m\u001b[0;34m.\u001b[0m\u001b[0msession\u001b[0m\u001b[0;34m.\u001b[0m\u001b[0mrecv\u001b[0m\u001b[0;34m(\u001b[0m\u001b[0mself\u001b[0m\u001b[0;34m.\u001b[0m\u001b[0mstdin_socket\u001b[0m\u001b[0;34m,\u001b[0m \u001b[0;36m0\u001b[0m\u001b[0;34m)\u001b[0m\u001b[0;34m\u001b[0m\u001b[0m\n\u001b[0m\u001b[1;32m    730\u001b[0m             \u001b[0;32mexcept\u001b[0m \u001b[0mException\u001b[0m\u001b[0;34m:\u001b[0m\u001b[0;34m\u001b[0m\u001b[0m\n",
      "\u001b[0;32m~/anaconda3/lib/python3.6/site-packages/jupyter_client/session.py\u001b[0m in \u001b[0;36mrecv\u001b[0;34m(self, socket, mode, content, copy)\u001b[0m\n\u001b[1;32m    802\u001b[0m         \u001b[0;32mtry\u001b[0m\u001b[0;34m:\u001b[0m\u001b[0;34m\u001b[0m\u001b[0m\n\u001b[0;32m--> 803\u001b[0;31m             \u001b[0mmsg_list\u001b[0m \u001b[0;34m=\u001b[0m \u001b[0msocket\u001b[0m\u001b[0;34m.\u001b[0m\u001b[0mrecv_multipart\u001b[0m\u001b[0;34m(\u001b[0m\u001b[0mmode\u001b[0m\u001b[0;34m,\u001b[0m \u001b[0mcopy\u001b[0m\u001b[0;34m=\u001b[0m\u001b[0mcopy\u001b[0m\u001b[0;34m)\u001b[0m\u001b[0;34m\u001b[0m\u001b[0m\n\u001b[0m\u001b[1;32m    804\u001b[0m         \u001b[0;32mexcept\u001b[0m \u001b[0mzmq\u001b[0m\u001b[0;34m.\u001b[0m\u001b[0mZMQError\u001b[0m \u001b[0;32mas\u001b[0m \u001b[0me\u001b[0m\u001b[0;34m:\u001b[0m\u001b[0;34m\u001b[0m\u001b[0m\n",
      "\u001b[0;32m~/anaconda3/lib/python3.6/site-packages/zmq/sugar/socket.py\u001b[0m in \u001b[0;36mrecv_multipart\u001b[0;34m(self, flags, copy, track)\u001b[0m\n\u001b[1;32m    465\u001b[0m         \"\"\"\n\u001b[0;32m--> 466\u001b[0;31m         \u001b[0mparts\u001b[0m \u001b[0;34m=\u001b[0m \u001b[0;34m[\u001b[0m\u001b[0mself\u001b[0m\u001b[0;34m.\u001b[0m\u001b[0mrecv\u001b[0m\u001b[0;34m(\u001b[0m\u001b[0mflags\u001b[0m\u001b[0;34m,\u001b[0m \u001b[0mcopy\u001b[0m\u001b[0;34m=\u001b[0m\u001b[0mcopy\u001b[0m\u001b[0;34m,\u001b[0m \u001b[0mtrack\u001b[0m\u001b[0;34m=\u001b[0m\u001b[0mtrack\u001b[0m\u001b[0;34m)\u001b[0m\u001b[0;34m]\u001b[0m\u001b[0;34m\u001b[0m\u001b[0m\n\u001b[0m\u001b[1;32m    467\u001b[0m         \u001b[0;31m# have first part already, only loop while more to receive\u001b[0m\u001b[0;34m\u001b[0m\u001b[0;34m\u001b[0m\u001b[0m\n",
      "\u001b[0;32mzmq/backend/cython/socket.pyx\u001b[0m in \u001b[0;36mzmq.backend.cython.socket.Socket.recv\u001b[0;34m()\u001b[0m\n",
      "\u001b[0;32mzmq/backend/cython/socket.pyx\u001b[0m in \u001b[0;36mzmq.backend.cython.socket.Socket.recv\u001b[0;34m()\u001b[0m\n",
      "\u001b[0;32mzmq/backend/cython/socket.pyx\u001b[0m in \u001b[0;36mzmq.backend.cython.socket._recv_copy\u001b[0;34m()\u001b[0m\n",
      "\u001b[0;32m~/anaconda3/lib/python3.6/site-packages/zmq/backend/cython/checkrc.pxd\u001b[0m in \u001b[0;36mzmq.backend.cython.checkrc._check_rc\u001b[0;34m()\u001b[0m\n",
      "\u001b[0;31mKeyboardInterrupt\u001b[0m: ",
      "\nDuring handling of the above exception, another exception occurred:\n",
      "\u001b[0;31mKeyboardInterrupt\u001b[0m                         Traceback (most recent call last)",
      "\u001b[0;32m<ipython-input-125-28c5c3870b56>\u001b[0m in \u001b[0;36m<module>\u001b[0;34m()\u001b[0m\n\u001b[1;32m     10\u001b[0m     \u001b[0;32mwhile\u001b[0m \u001b[0;32mnot\u001b[0m \u001b[0mgame_won\u001b[0m\u001b[0;34m:\u001b[0m\u001b[0;34m\u001b[0m\u001b[0m\n\u001b[1;32m     11\u001b[0m         \u001b[0mcurrent_player\u001b[0m \u001b[0;34m=\u001b[0m \u001b[0;36m1\u001b[0m\u001b[0;34m\u001b[0m\u001b[0m\n\u001b[0;32m---> 12\u001b[0;31m         \u001b[0mcolumn_choice\u001b[0m \u001b[0;34m=\u001b[0m \u001b[0mint\u001b[0m\u001b[0;34m(\u001b[0m\u001b[0minput\u001b[0m\u001b[0;34m(\u001b[0m\u001b[0;34m\"Which column do you wants to play? (0,1,2): \"\u001b[0m\u001b[0;34m)\u001b[0m\u001b[0;34m)\u001b[0m\u001b[0;34m\u001b[0m\u001b[0m\n\u001b[0m\u001b[1;32m     13\u001b[0m         \u001b[0mrow_choice\u001b[0m \u001b[0;34m=\u001b[0m \u001b[0mint\u001b[0m\u001b[0;34m(\u001b[0m\u001b[0minput\u001b[0m\u001b[0;34m(\u001b[0m\u001b[0;34m\"Which row do you wants to play? (0,1,2): \"\u001b[0m\u001b[0;34m)\u001b[0m\u001b[0;34m)\u001b[0m\u001b[0;34m\u001b[0m\u001b[0m\n\u001b[1;32m     14\u001b[0m         \u001b[0mgame\u001b[0m \u001b[0;34m=\u001b[0m \u001b[0mgame_board\u001b[0m\u001b[0;34m(\u001b[0m\u001b[0mgame\u001b[0m\u001b[0;34m,\u001b[0m \u001b[0mcurrent_player\u001b[0m\u001b[0;34m,\u001b[0m \u001b[0mrow_choice\u001b[0m\u001b[0;34m,\u001b[0m \u001b[0mcolumn_choice\u001b[0m\u001b[0;34m)\u001b[0m\u001b[0;34m\u001b[0m\u001b[0m\n",
      "\u001b[0;32m~/anaconda3/lib/python3.6/site-packages/ipykernel/kernelbase.py\u001b[0m in \u001b[0;36mraw_input\u001b[0;34m(self, prompt)\u001b[0m\n\u001b[1;32m    702\u001b[0m             \u001b[0mself\u001b[0m\u001b[0;34m.\u001b[0m\u001b[0m_parent_ident\u001b[0m\u001b[0;34m,\u001b[0m\u001b[0;34m\u001b[0m\u001b[0m\n\u001b[1;32m    703\u001b[0m             \u001b[0mself\u001b[0m\u001b[0;34m.\u001b[0m\u001b[0m_parent_header\u001b[0m\u001b[0;34m,\u001b[0m\u001b[0;34m\u001b[0m\u001b[0m\n\u001b[0;32m--> 704\u001b[0;31m             \u001b[0mpassword\u001b[0m\u001b[0;34m=\u001b[0m\u001b[0;32mFalse\u001b[0m\u001b[0;34m,\u001b[0m\u001b[0;34m\u001b[0m\u001b[0m\n\u001b[0m\u001b[1;32m    705\u001b[0m         )\n\u001b[1;32m    706\u001b[0m \u001b[0;34m\u001b[0m\u001b[0m\n",
      "\u001b[0;32m~/anaconda3/lib/python3.6/site-packages/ipykernel/kernelbase.py\u001b[0m in \u001b[0;36m_input_request\u001b[0;34m(self, prompt, ident, parent, password)\u001b[0m\n\u001b[1;32m    732\u001b[0m             \u001b[0;32mexcept\u001b[0m \u001b[0mKeyboardInterrupt\u001b[0m\u001b[0;34m:\u001b[0m\u001b[0;34m\u001b[0m\u001b[0m\n\u001b[1;32m    733\u001b[0m                 \u001b[0;31m# re-raise KeyboardInterrupt, to truncate traceback\u001b[0m\u001b[0;34m\u001b[0m\u001b[0;34m\u001b[0m\u001b[0m\n\u001b[0;32m--> 734\u001b[0;31m                 \u001b[0;32mraise\u001b[0m \u001b[0mKeyboardInterrupt\u001b[0m\u001b[0;34m\u001b[0m\u001b[0m\n\u001b[0m\u001b[1;32m    735\u001b[0m             \u001b[0;32melse\u001b[0m\u001b[0;34m:\u001b[0m\u001b[0;34m\u001b[0m\u001b[0m\n\u001b[1;32m    736\u001b[0m                 \u001b[0;32mbreak\u001b[0m\u001b[0;34m\u001b[0m\u001b[0m\n",
      "\u001b[0;31mKeyboardInterrupt\u001b[0m: "
     ]
    }
   ],
   "source": [
    "play = True # We want players to play as long as they want to. This variable is going to take care of that\n",
    "players = [1, 2]\n",
    "while play:\n",
    "    game = [[0,0,0],\n",
    "            [0,0,0],\n",
    "            [0,0,0],]\n",
    "    \n",
    "    game_won = False # We will play as long as someone win the game and then start with a new game.\n",
    "    game = game_board(game, just_display = True)\n",
    "    while not game_won:\n",
    "        current_player = 1\n",
    "        column_choice = int(input(\"Which column do you wants to play? (0,1,2): \"))\n",
    "        row_choice = int(input(\"Which row do you wants to play? (0,1,2): \"))\n",
    "        game = game_board(game, current_player, row_choice, column_choice)"
   ]
  },
  {
   "cell_type": "code",
   "execution_count": 128,
   "metadata": {},
   "outputs": [],
   "source": [
    "# User inputs are working fine. Now we are just playing with only one player. \n",
    "# We will need to rotate the player after every turn."
   ]
  },
  {
   "cell_type": "code",
   "execution_count": 131,
   "metadata": {},
   "outputs": [
    {
     "name": "stdout",
     "output_type": "stream",
     "text": [
      "2\n",
      "1\n",
      "2\n",
      "1\n",
      "2\n",
      "1\n",
      "2\n",
      "1\n",
      "2\n",
      "1\n"
     ]
    }
   ],
   "source": [
    "# One way to do it is to just flip between 0 and 1 by leveraging the fact that 1 has an index of 0 and vice versa.\n",
    "player = [1,0]\n",
    "\n",
    "choice = 1\n",
    "for i in range(10):\n",
    "    current_player = choice+1\n",
    "    print(current_player)\n",
    "    choice = player[choice]"
   ]
  },
  {
   "cell_type": "code",
   "execution_count": 136,
   "metadata": {},
   "outputs": [
    {
     "name": "stdout",
     "output_type": "stream",
     "text": [
      "1\n",
      "2\n",
      "3\n",
      "4\n"
     ]
    },
    {
     "ename": "TypeError",
     "evalue": "'list' object is not an iterator",
     "output_type": "error",
     "traceback": [
      "\u001b[0;31m---------------------------------------------------------------------------\u001b[0m",
      "\u001b[0;31mTypeError\u001b[0m                                 Traceback (most recent call last)",
      "\u001b[0;32m<ipython-input-136-ce15b14c9750>\u001b[0m in \u001b[0;36m<module>\u001b[0;34m()\u001b[0m\n\u001b[1;32m      9\u001b[0m     \u001b[0mprint\u001b[0m\u001b[0;34m(\u001b[0m\u001b[0mi\u001b[0m\u001b[0;34m)\u001b[0m\u001b[0;34m\u001b[0m\u001b[0m\n\u001b[1;32m     10\u001b[0m \u001b[0;31m# We can iterate over the list. But we can not use functions like next to find the next value in it.\u001b[0m\u001b[0;34m\u001b[0m\u001b[0;34m\u001b[0m\u001b[0m\n\u001b[0;32m---> 11\u001b[0;31m \u001b[0mprint\u001b[0m\u001b[0;34m(\u001b[0m\u001b[0mnext\u001b[0m\u001b[0;34m(\u001b[0m\u001b[0mx\u001b[0m\u001b[0;34m)\u001b[0m\u001b[0;34m)\u001b[0m\u001b[0;34m\u001b[0m\u001b[0m\n\u001b[0m",
      "\u001b[0;31mTypeError\u001b[0m: 'list' object is not an iterator"
     ]
    }
   ],
   "source": [
    "# Another way is to use a iterator that rotates values in the list.\n",
    "########### Difference between an itreable and iterator ############\n",
    "# Iterable :- An object that we can iterate over. For eg. A list.\n",
    "# Iterator :- A Special object that have some functions like next() attached to it.\n",
    "\n",
    "import itertools\n",
    "x = list([1,2,3,4]) # iterable\n",
    "for i in x:\n",
    "    print(i)\n",
    "# We can iterate over the list. But we can not use functions like next to find the next value in it.\n",
    "print(next(x))\n",
    "# We get an error that this is not an iterator"
   ]
  },
  {
   "cell_type": "code",
   "execution_count": 138,
   "metadata": {},
   "outputs": [
    {
     "name": "stdout",
     "output_type": "stream",
     "text": [
      "1\n",
      "2\n",
      "3\n"
     ]
    }
   ],
   "source": [
    "# Iterator\n",
    "n = itertools.cycle([1,2,3,4]) # Iterator\n",
    "print(next(n))\n",
    "print(next(n))\n",
    "print(next(n))"
   ]
  },
  {
   "cell_type": "code",
   "execution_count": 142,
   "metadata": {},
   "outputs": [
    {
     "name": "stdout",
     "output_type": "stream",
     "text": [
      "1\n",
      "2\n",
      "3\n"
     ]
    }
   ],
   "source": [
    "# We can also iterate over an iterator \n",
    "# We won't do that here as it will run infinite.\n",
    "\n",
    "# We can also convert an iterable to iterator using iter() function.\n",
    "z = iter(x)\n",
    "print(next(z))\n",
    "print(next(z))\n",
    "print(next(z))"
   ]
  },
  {
   "cell_type": "code",
   "execution_count": 143,
   "metadata": {},
   "outputs": [
    {
     "name": "stdout",
     "output_type": "stream",
     "text": [
      "   0  1  2\n",
      "0 [0, 0, 0]\n",
      "1 [0, 0, 0]\n",
      "2 [0, 0, 0]\n",
      "Current Player : 1\n",
      "Which column do you wants to play? (0,1,2): 0\n",
      "Which row do you wants to play? (0,1,2): 0\n",
      "   0  1  2\n",
      "0 [1, 0, 0]\n",
      "1 [0, 0, 0]\n",
      "2 [0, 0, 0]\n",
      "Current Player : 2\n",
      "Which column do you wants to play? (0,1,2): 1\n",
      "Which row do you wants to play? (0,1,2): 1\n",
      "   0  1  2\n",
      "0 [1, 0, 0]\n",
      "1 [0, 2, 0]\n",
      "2 [0, 0, 0]\n",
      "Current Player : 1\n",
      "Which column do you wants to play? (0,1,2): 0\n",
      "Which row do you wants to play? (0,1,2): 2\n",
      "   0  1  2\n",
      "0 [1, 0, 0]\n",
      "1 [0, 2, 0]\n",
      "2 [1, 0, 0]\n",
      "Current Player : 2\n",
      "Which column do you wants to play? (0,1,2): 0\n",
      "Which row do you wants to play? (0,1,2): 1\n",
      "   0  1  2\n",
      "0 [1, 0, 0]\n",
      "1 [2, 2, 0]\n",
      "2 [1, 0, 0]\n",
      "Current Player : 1\n",
      "Which column do you wants to play? (0,1,2): 2\n",
      "Which row do you wants to play? (0,1,2): 1\n",
      "   0  1  2\n",
      "0 [1, 0, 0]\n",
      "1 [2, 2, 1]\n",
      "2 [1, 0, 0]\n",
      "Current Player : 2\n",
      "Which column do you wants to play? (0,1,2): 1\n",
      "Which row do you wants to play? (0,1,2): 0\n",
      "   0  1  2\n",
      "0 [1, 2, 0]\n",
      "1 [2, 2, 1]\n",
      "2 [1, 0, 0]\n",
      "Current Player : 1\n",
      "Which column do you wants to play? (0,1,2): 1\n",
      "Which row do you wants to play? (0,1,2): 2\n",
      "   0  1  2\n",
      "0 [1, 2, 0]\n",
      "1 [2, 2, 1]\n",
      "2 [1, 1, 0]\n",
      "Current Player : 2\n",
      "Which column do you wants to play? (0,1,2): 2\n",
      "Which row do you wants to play? (0,1,2): 2\n",
      "   0  1  2\n",
      "0 [1, 2, 0]\n",
      "1 [2, 2, 1]\n",
      "2 [1, 1, 2]\n",
      "Current Player : 1\n",
      "Which column do you wants to play? (0,1,2): 2\n",
      "Which row do you wants to play? (0,1,2): 0\n",
      "   0  1  2\n",
      "0 [1, 2, 1]\n",
      "1 [2, 2, 1]\n",
      "2 [1, 1, 2]\n",
      "Current Player : 2\n"
     ]
    },
    {
     "ename": "KeyboardInterrupt",
     "evalue": "",
     "output_type": "error",
     "traceback": [
      "\u001b[0;31m---------------------------------------------------------------------------\u001b[0m",
      "\u001b[0;31mKeyboardInterrupt\u001b[0m                         Traceback (most recent call last)",
      "\u001b[0;32m~/anaconda3/lib/python3.6/site-packages/ipykernel/kernelbase.py\u001b[0m in \u001b[0;36m_input_request\u001b[0;34m(self, prompt, ident, parent, password)\u001b[0m\n\u001b[1;32m    728\u001b[0m             \u001b[0;32mtry\u001b[0m\u001b[0;34m:\u001b[0m\u001b[0;34m\u001b[0m\u001b[0m\n\u001b[0;32m--> 729\u001b[0;31m                 \u001b[0mident\u001b[0m\u001b[0;34m,\u001b[0m \u001b[0mreply\u001b[0m \u001b[0;34m=\u001b[0m \u001b[0mself\u001b[0m\u001b[0;34m.\u001b[0m\u001b[0msession\u001b[0m\u001b[0;34m.\u001b[0m\u001b[0mrecv\u001b[0m\u001b[0;34m(\u001b[0m\u001b[0mself\u001b[0m\u001b[0;34m.\u001b[0m\u001b[0mstdin_socket\u001b[0m\u001b[0;34m,\u001b[0m \u001b[0;36m0\u001b[0m\u001b[0;34m)\u001b[0m\u001b[0;34m\u001b[0m\u001b[0m\n\u001b[0m\u001b[1;32m    730\u001b[0m             \u001b[0;32mexcept\u001b[0m \u001b[0mException\u001b[0m\u001b[0;34m:\u001b[0m\u001b[0;34m\u001b[0m\u001b[0m\n",
      "\u001b[0;32m~/anaconda3/lib/python3.6/site-packages/jupyter_client/session.py\u001b[0m in \u001b[0;36mrecv\u001b[0;34m(self, socket, mode, content, copy)\u001b[0m\n\u001b[1;32m    802\u001b[0m         \u001b[0;32mtry\u001b[0m\u001b[0;34m:\u001b[0m\u001b[0;34m\u001b[0m\u001b[0m\n\u001b[0;32m--> 803\u001b[0;31m             \u001b[0mmsg_list\u001b[0m \u001b[0;34m=\u001b[0m \u001b[0msocket\u001b[0m\u001b[0;34m.\u001b[0m\u001b[0mrecv_multipart\u001b[0m\u001b[0;34m(\u001b[0m\u001b[0mmode\u001b[0m\u001b[0;34m,\u001b[0m \u001b[0mcopy\u001b[0m\u001b[0;34m=\u001b[0m\u001b[0mcopy\u001b[0m\u001b[0;34m)\u001b[0m\u001b[0;34m\u001b[0m\u001b[0m\n\u001b[0m\u001b[1;32m    804\u001b[0m         \u001b[0;32mexcept\u001b[0m \u001b[0mzmq\u001b[0m\u001b[0;34m.\u001b[0m\u001b[0mZMQError\u001b[0m \u001b[0;32mas\u001b[0m \u001b[0me\u001b[0m\u001b[0;34m:\u001b[0m\u001b[0;34m\u001b[0m\u001b[0m\n",
      "\u001b[0;32m~/anaconda3/lib/python3.6/site-packages/zmq/sugar/socket.py\u001b[0m in \u001b[0;36mrecv_multipart\u001b[0;34m(self, flags, copy, track)\u001b[0m\n\u001b[1;32m    465\u001b[0m         \"\"\"\n\u001b[0;32m--> 466\u001b[0;31m         \u001b[0mparts\u001b[0m \u001b[0;34m=\u001b[0m \u001b[0;34m[\u001b[0m\u001b[0mself\u001b[0m\u001b[0;34m.\u001b[0m\u001b[0mrecv\u001b[0m\u001b[0;34m(\u001b[0m\u001b[0mflags\u001b[0m\u001b[0;34m,\u001b[0m \u001b[0mcopy\u001b[0m\u001b[0;34m=\u001b[0m\u001b[0mcopy\u001b[0m\u001b[0;34m,\u001b[0m \u001b[0mtrack\u001b[0m\u001b[0;34m=\u001b[0m\u001b[0mtrack\u001b[0m\u001b[0;34m)\u001b[0m\u001b[0;34m]\u001b[0m\u001b[0;34m\u001b[0m\u001b[0m\n\u001b[0m\u001b[1;32m    467\u001b[0m         \u001b[0;31m# have first part already, only loop while more to receive\u001b[0m\u001b[0;34m\u001b[0m\u001b[0;34m\u001b[0m\u001b[0m\n",
      "\u001b[0;32mzmq/backend/cython/socket.pyx\u001b[0m in \u001b[0;36mzmq.backend.cython.socket.Socket.recv\u001b[0;34m()\u001b[0m\n",
      "\u001b[0;32mzmq/backend/cython/socket.pyx\u001b[0m in \u001b[0;36mzmq.backend.cython.socket.Socket.recv\u001b[0;34m()\u001b[0m\n",
      "\u001b[0;32mzmq/backend/cython/socket.pyx\u001b[0m in \u001b[0;36mzmq.backend.cython.socket._recv_copy\u001b[0;34m()\u001b[0m\n",
      "\u001b[0;32m~/anaconda3/lib/python3.6/site-packages/zmq/backend/cython/checkrc.pxd\u001b[0m in \u001b[0;36mzmq.backend.cython.checkrc._check_rc\u001b[0;34m()\u001b[0m\n",
      "\u001b[0;31mKeyboardInterrupt\u001b[0m: ",
      "\nDuring handling of the above exception, another exception occurred:\n",
      "\u001b[0;31mKeyboardInterrupt\u001b[0m                         Traceback (most recent call last)",
      "\u001b[0;32m<ipython-input-143-df9410589038>\u001b[0m in \u001b[0;36m<module>\u001b[0;34m()\u001b[0m\n\u001b[1;32m     12\u001b[0m         \u001b[0mcurrent_player\u001b[0m \u001b[0;34m=\u001b[0m \u001b[0mnext\u001b[0m\u001b[0;34m(\u001b[0m\u001b[0mplayer\u001b[0m\u001b[0;34m)\u001b[0m\u001b[0;34m\u001b[0m\u001b[0m\n\u001b[1;32m     13\u001b[0m         \u001b[0mprint\u001b[0m\u001b[0;34m(\u001b[0m\u001b[0;34mf\"Current Player : {current_player}\"\u001b[0m\u001b[0;34m)\u001b[0m\u001b[0;34m\u001b[0m\u001b[0m\n\u001b[0;32m---> 14\u001b[0;31m         \u001b[0mcolumn_choice\u001b[0m \u001b[0;34m=\u001b[0m \u001b[0mint\u001b[0m\u001b[0;34m(\u001b[0m\u001b[0minput\u001b[0m\u001b[0;34m(\u001b[0m\u001b[0;34m\"Which column do you wants to play? (0,1,2): \"\u001b[0m\u001b[0;34m)\u001b[0m\u001b[0;34m)\u001b[0m\u001b[0;34m\u001b[0m\u001b[0m\n\u001b[0m\u001b[1;32m     15\u001b[0m         \u001b[0mrow_choice\u001b[0m \u001b[0;34m=\u001b[0m \u001b[0mint\u001b[0m\u001b[0;34m(\u001b[0m\u001b[0minput\u001b[0m\u001b[0;34m(\u001b[0m\u001b[0;34m\"Which row do you wants to play? (0,1,2): \"\u001b[0m\u001b[0;34m)\u001b[0m\u001b[0;34m)\u001b[0m\u001b[0;34m\u001b[0m\u001b[0m\n\u001b[1;32m     16\u001b[0m         \u001b[0mgame\u001b[0m \u001b[0;34m=\u001b[0m \u001b[0mgame_board\u001b[0m\u001b[0;34m(\u001b[0m\u001b[0mgame\u001b[0m\u001b[0;34m,\u001b[0m \u001b[0mcurrent_player\u001b[0m\u001b[0;34m,\u001b[0m \u001b[0mrow_choice\u001b[0m\u001b[0;34m,\u001b[0m \u001b[0mcolumn_choice\u001b[0m\u001b[0;34m)\u001b[0m\u001b[0;34m\u001b[0m\u001b[0m\n",
      "\u001b[0;32m~/anaconda3/lib/python3.6/site-packages/ipykernel/kernelbase.py\u001b[0m in \u001b[0;36mraw_input\u001b[0;34m(self, prompt)\u001b[0m\n\u001b[1;32m    702\u001b[0m             \u001b[0mself\u001b[0m\u001b[0;34m.\u001b[0m\u001b[0m_parent_ident\u001b[0m\u001b[0;34m,\u001b[0m\u001b[0;34m\u001b[0m\u001b[0m\n\u001b[1;32m    703\u001b[0m             \u001b[0mself\u001b[0m\u001b[0;34m.\u001b[0m\u001b[0m_parent_header\u001b[0m\u001b[0;34m,\u001b[0m\u001b[0;34m\u001b[0m\u001b[0m\n\u001b[0;32m--> 704\u001b[0;31m             \u001b[0mpassword\u001b[0m\u001b[0;34m=\u001b[0m\u001b[0;32mFalse\u001b[0m\u001b[0;34m,\u001b[0m\u001b[0;34m\u001b[0m\u001b[0m\n\u001b[0m\u001b[1;32m    705\u001b[0m         )\n\u001b[1;32m    706\u001b[0m \u001b[0;34m\u001b[0m\u001b[0m\n",
      "\u001b[0;32m~/anaconda3/lib/python3.6/site-packages/ipykernel/kernelbase.py\u001b[0m in \u001b[0;36m_input_request\u001b[0;34m(self, prompt, ident, parent, password)\u001b[0m\n\u001b[1;32m    732\u001b[0m             \u001b[0;32mexcept\u001b[0m \u001b[0mKeyboardInterrupt\u001b[0m\u001b[0;34m:\u001b[0m\u001b[0;34m\u001b[0m\u001b[0m\n\u001b[1;32m    733\u001b[0m                 \u001b[0;31m# re-raise KeyboardInterrupt, to truncate traceback\u001b[0m\u001b[0;34m\u001b[0m\u001b[0;34m\u001b[0m\u001b[0m\n\u001b[0;32m--> 734\u001b[0;31m                 \u001b[0;32mraise\u001b[0m \u001b[0mKeyboardInterrupt\u001b[0m\u001b[0;34m\u001b[0m\u001b[0m\n\u001b[0m\u001b[1;32m    735\u001b[0m             \u001b[0;32melse\u001b[0m\u001b[0;34m:\u001b[0m\u001b[0;34m\u001b[0m\u001b[0m\n\u001b[1;32m    736\u001b[0m                 \u001b[0;32mbreak\u001b[0m\u001b[0;34m\u001b[0m\u001b[0m\n",
      "\u001b[0;31mKeyboardInterrupt\u001b[0m: "
     ]
    }
   ],
   "source": [
    "play = True # We want players to play as long as they want to. This variable is going to take care of that\n",
    "players = [1, 2]\n",
    "while play:\n",
    "    game = [[0,0,0],\n",
    "            [0,0,0],\n",
    "            [0,0,0],]\n",
    "    \n",
    "    game_won = False # We will play as long as someone win the game and then start with a new game.\n",
    "    game = game_board(game, just_display = True)\n",
    "    player = itertools.cycle([1,2])\n",
    "    while not game_won:\n",
    "        current_player = next(player)\n",
    "        print(f\"Current Player : {current_player}\")\n",
    "        column_choice = int(input(\"Which column do you wants to play? (0,1,2): \"))\n",
    "        row_choice = int(input(\"Which row do you wants to play? (0,1,2): \"))\n",
    "        game = game_board(game, current_player, row_choice, column_choice)"
   ]
  },
  {
   "cell_type": "code",
   "execution_count": 166,
   "metadata": {},
   "outputs": [],
   "source": [
    "# Now we will take care of the problem that if you've played on a position already, it should not overwrite.\n",
    "# We need to modify the game_board() function and add another condition.\n",
    "\n",
    "def game_board(game, player = 0, row = 0, column = 0, just_display = False):\n",
    "    try :\n",
    "        if game[row][column] != 0:\n",
    "            print(\"This position is occupied!! Choose another position\")\n",
    "            return game, False\n",
    "        if not just_display:\n",
    "            game[row][column] = player\n",
    "        print(\"   \"+\"  \".join(str(i) for i in range(len(game))))\n",
    "        for count,row in enumerate(game):\n",
    "            print(count, row)\n",
    "        return game, True\n",
    "    except IndexError as e:\n",
    "        print(\"Row and column should be between 0 and 2.\",e)\n",
    "        return game, False\n",
    "    except Exception as e:\n",
    "        print(\"Something went very wrong!!!\",e)\n",
    "        return game, False                "
   ]
  },
  {
   "cell_type": "code",
   "execution_count": 152,
   "metadata": {},
   "outputs": [
    {
     "name": "stdout",
     "output_type": "stream",
     "text": [
      "   0  1  2\n",
      "0 [0, 0, 0]\n",
      "1 [0, 0, 0]\n",
      "2 [0, 0, 0]\n",
      "Current Player : 1\n",
      "Which column do you wants to play? (0,1,2): 0\n",
      "Which row do you wants to play? (0,1,2): 0\n",
      "   0  1  2\n",
      "0 [1, 0, 0]\n",
      "1 [0, 0, 0]\n",
      "2 [0, 0, 0]\n",
      "Current Player : 2\n",
      "Which column do you wants to play? (0,1,2): 0\n",
      "Which row do you wants to play? (0,1,2): 0\n",
      "This position is occupied!! Choose another position\n",
      "Which column do you wants to play? (0,1,2): 1\n",
      "Which row do you wants to play? (0,1,2): 1\n",
      "   0  1  2\n",
      "0 [1, 0, 0]\n",
      "1 [0, 2, 0]\n",
      "2 [0, 0, 0]\n",
      "Current Player : 1\n"
     ]
    },
    {
     "ename": "KeyboardInterrupt",
     "evalue": "",
     "output_type": "error",
     "traceback": [
      "\u001b[0;31m---------------------------------------------------------------------------\u001b[0m",
      "\u001b[0;31mKeyboardInterrupt\u001b[0m                         Traceback (most recent call last)",
      "\u001b[0;32m~/anaconda3/lib/python3.6/site-packages/ipykernel/kernelbase.py\u001b[0m in \u001b[0;36m_input_request\u001b[0;34m(self, prompt, ident, parent, password)\u001b[0m\n\u001b[1;32m    728\u001b[0m             \u001b[0;32mtry\u001b[0m\u001b[0;34m:\u001b[0m\u001b[0;34m\u001b[0m\u001b[0m\n\u001b[0;32m--> 729\u001b[0;31m                 \u001b[0mident\u001b[0m\u001b[0;34m,\u001b[0m \u001b[0mreply\u001b[0m \u001b[0;34m=\u001b[0m \u001b[0mself\u001b[0m\u001b[0;34m.\u001b[0m\u001b[0msession\u001b[0m\u001b[0;34m.\u001b[0m\u001b[0mrecv\u001b[0m\u001b[0;34m(\u001b[0m\u001b[0mself\u001b[0m\u001b[0;34m.\u001b[0m\u001b[0mstdin_socket\u001b[0m\u001b[0;34m,\u001b[0m \u001b[0;36m0\u001b[0m\u001b[0;34m)\u001b[0m\u001b[0;34m\u001b[0m\u001b[0m\n\u001b[0m\u001b[1;32m    730\u001b[0m             \u001b[0;32mexcept\u001b[0m \u001b[0mException\u001b[0m\u001b[0;34m:\u001b[0m\u001b[0;34m\u001b[0m\u001b[0m\n",
      "\u001b[0;32m~/anaconda3/lib/python3.6/site-packages/jupyter_client/session.py\u001b[0m in \u001b[0;36mrecv\u001b[0;34m(self, socket, mode, content, copy)\u001b[0m\n\u001b[1;32m    802\u001b[0m         \u001b[0;32mtry\u001b[0m\u001b[0;34m:\u001b[0m\u001b[0;34m\u001b[0m\u001b[0m\n\u001b[0;32m--> 803\u001b[0;31m             \u001b[0mmsg_list\u001b[0m \u001b[0;34m=\u001b[0m \u001b[0msocket\u001b[0m\u001b[0;34m.\u001b[0m\u001b[0mrecv_multipart\u001b[0m\u001b[0;34m(\u001b[0m\u001b[0mmode\u001b[0m\u001b[0;34m,\u001b[0m \u001b[0mcopy\u001b[0m\u001b[0;34m=\u001b[0m\u001b[0mcopy\u001b[0m\u001b[0;34m)\u001b[0m\u001b[0;34m\u001b[0m\u001b[0m\n\u001b[0m\u001b[1;32m    804\u001b[0m         \u001b[0;32mexcept\u001b[0m \u001b[0mzmq\u001b[0m\u001b[0;34m.\u001b[0m\u001b[0mZMQError\u001b[0m \u001b[0;32mas\u001b[0m \u001b[0me\u001b[0m\u001b[0;34m:\u001b[0m\u001b[0;34m\u001b[0m\u001b[0m\n",
      "\u001b[0;32m~/anaconda3/lib/python3.6/site-packages/zmq/sugar/socket.py\u001b[0m in \u001b[0;36mrecv_multipart\u001b[0;34m(self, flags, copy, track)\u001b[0m\n\u001b[1;32m    465\u001b[0m         \"\"\"\n\u001b[0;32m--> 466\u001b[0;31m         \u001b[0mparts\u001b[0m \u001b[0;34m=\u001b[0m \u001b[0;34m[\u001b[0m\u001b[0mself\u001b[0m\u001b[0;34m.\u001b[0m\u001b[0mrecv\u001b[0m\u001b[0;34m(\u001b[0m\u001b[0mflags\u001b[0m\u001b[0;34m,\u001b[0m \u001b[0mcopy\u001b[0m\u001b[0;34m=\u001b[0m\u001b[0mcopy\u001b[0m\u001b[0;34m,\u001b[0m \u001b[0mtrack\u001b[0m\u001b[0;34m=\u001b[0m\u001b[0mtrack\u001b[0m\u001b[0;34m)\u001b[0m\u001b[0;34m]\u001b[0m\u001b[0;34m\u001b[0m\u001b[0m\n\u001b[0m\u001b[1;32m    467\u001b[0m         \u001b[0;31m# have first part already, only loop while more to receive\u001b[0m\u001b[0;34m\u001b[0m\u001b[0;34m\u001b[0m\u001b[0m\n",
      "\u001b[0;32mzmq/backend/cython/socket.pyx\u001b[0m in \u001b[0;36mzmq.backend.cython.socket.Socket.recv\u001b[0;34m()\u001b[0m\n",
      "\u001b[0;32mzmq/backend/cython/socket.pyx\u001b[0m in \u001b[0;36mzmq.backend.cython.socket.Socket.recv\u001b[0;34m()\u001b[0m\n",
      "\u001b[0;32mzmq/backend/cython/socket.pyx\u001b[0m in \u001b[0;36mzmq.backend.cython.socket._recv_copy\u001b[0;34m()\u001b[0m\n",
      "\u001b[0;32m~/anaconda3/lib/python3.6/site-packages/zmq/backend/cython/checkrc.pxd\u001b[0m in \u001b[0;36mzmq.backend.cython.checkrc._check_rc\u001b[0;34m()\u001b[0m\n",
      "\u001b[0;31mKeyboardInterrupt\u001b[0m: ",
      "\nDuring handling of the above exception, another exception occurred:\n",
      "\u001b[0;31mKeyboardInterrupt\u001b[0m                         Traceback (most recent call last)",
      "\u001b[0;32m<ipython-input-152-7b9f4634a20f>\u001b[0m in \u001b[0;36m<module>\u001b[0;34m()\u001b[0m\n\u001b[1;32m     15\u001b[0m         \u001b[0mplayed\u001b[0m \u001b[0;34m=\u001b[0m \u001b[0;32mFalse\u001b[0m\u001b[0;34m\u001b[0m\u001b[0m\n\u001b[1;32m     16\u001b[0m         \u001b[0;32mwhile\u001b[0m \u001b[0;32mnot\u001b[0m \u001b[0mplayed\u001b[0m\u001b[0;34m:\u001b[0m\u001b[0;34m\u001b[0m\u001b[0m\n\u001b[0;32m---> 17\u001b[0;31m             \u001b[0mcolumn_choice\u001b[0m \u001b[0;34m=\u001b[0m \u001b[0mint\u001b[0m\u001b[0;34m(\u001b[0m\u001b[0minput\u001b[0m\u001b[0;34m(\u001b[0m\u001b[0;34m\"Which column do you wants to play? (0,1,2): \"\u001b[0m\u001b[0;34m)\u001b[0m\u001b[0;34m)\u001b[0m\u001b[0;34m\u001b[0m\u001b[0m\n\u001b[0m\u001b[1;32m     18\u001b[0m             \u001b[0mrow_choice\u001b[0m \u001b[0;34m=\u001b[0m \u001b[0mint\u001b[0m\u001b[0;34m(\u001b[0m\u001b[0minput\u001b[0m\u001b[0;34m(\u001b[0m\u001b[0;34m\"Which row do you wants to play? (0,1,2): \"\u001b[0m\u001b[0;34m)\u001b[0m\u001b[0;34m)\u001b[0m\u001b[0;34m\u001b[0m\u001b[0m\n\u001b[1;32m     19\u001b[0m             \u001b[0mgame\u001b[0m\u001b[0;34m,\u001b[0m \u001b[0mplayed\u001b[0m \u001b[0;34m=\u001b[0m \u001b[0mgame_board\u001b[0m\u001b[0;34m(\u001b[0m\u001b[0mgame\u001b[0m\u001b[0;34m,\u001b[0m \u001b[0mcurrent_player\u001b[0m\u001b[0;34m,\u001b[0m \u001b[0mrow_choice\u001b[0m\u001b[0;34m,\u001b[0m \u001b[0mcolumn_choice\u001b[0m\u001b[0;34m)\u001b[0m\u001b[0;34m\u001b[0m\u001b[0m\n",
      "\u001b[0;32m~/anaconda3/lib/python3.6/site-packages/ipykernel/kernelbase.py\u001b[0m in \u001b[0;36mraw_input\u001b[0;34m(self, prompt)\u001b[0m\n\u001b[1;32m    702\u001b[0m             \u001b[0mself\u001b[0m\u001b[0;34m.\u001b[0m\u001b[0m_parent_ident\u001b[0m\u001b[0;34m,\u001b[0m\u001b[0;34m\u001b[0m\u001b[0m\n\u001b[1;32m    703\u001b[0m             \u001b[0mself\u001b[0m\u001b[0;34m.\u001b[0m\u001b[0m_parent_header\u001b[0m\u001b[0;34m,\u001b[0m\u001b[0;34m\u001b[0m\u001b[0m\n\u001b[0;32m--> 704\u001b[0;31m             \u001b[0mpassword\u001b[0m\u001b[0;34m=\u001b[0m\u001b[0;32mFalse\u001b[0m\u001b[0;34m,\u001b[0m\u001b[0;34m\u001b[0m\u001b[0m\n\u001b[0m\u001b[1;32m    705\u001b[0m         )\n\u001b[1;32m    706\u001b[0m \u001b[0;34m\u001b[0m\u001b[0m\n",
      "\u001b[0;32m~/anaconda3/lib/python3.6/site-packages/ipykernel/kernelbase.py\u001b[0m in \u001b[0;36m_input_request\u001b[0;34m(self, prompt, ident, parent, password)\u001b[0m\n\u001b[1;32m    732\u001b[0m             \u001b[0;32mexcept\u001b[0m \u001b[0mKeyboardInterrupt\u001b[0m\u001b[0;34m:\u001b[0m\u001b[0;34m\u001b[0m\u001b[0m\n\u001b[1;32m    733\u001b[0m                 \u001b[0;31m# re-raise KeyboardInterrupt, to truncate traceback\u001b[0m\u001b[0;34m\u001b[0m\u001b[0;34m\u001b[0m\u001b[0m\n\u001b[0;32m--> 734\u001b[0;31m                 \u001b[0;32mraise\u001b[0m \u001b[0mKeyboardInterrupt\u001b[0m\u001b[0;34m\u001b[0m\u001b[0m\n\u001b[0m\u001b[1;32m    735\u001b[0m             \u001b[0;32melse\u001b[0m\u001b[0;34m:\u001b[0m\u001b[0;34m\u001b[0m\u001b[0m\n\u001b[1;32m    736\u001b[0m                 \u001b[0;32mbreak\u001b[0m\u001b[0;34m\u001b[0m\u001b[0m\n",
      "\u001b[0;31mKeyboardInterrupt\u001b[0m: "
     ]
    }
   ],
   "source": [
    "# Now we need to add one condition that in case of errors we need to allow for another chance for the same player.\n",
    "play = True # We want players to play as long as they want to. This variable is going to take care of that\n",
    "players = [1, 2]\n",
    "while play:\n",
    "    game = [[0,0,0],\n",
    "            [0,0,0],\n",
    "            [0,0,0],]\n",
    "    \n",
    "    game_won = False # We will play as long as someone win the game and then start with a new game.\n",
    "    game, _ = game_board(game, just_display = True)\n",
    "    player = itertools.cycle([1,2])\n",
    "    while not game_won:\n",
    "        current_player = next(player)\n",
    "        print(f\"Current Player : {current_player}\")\n",
    "        played = False\n",
    "        while not played:\n",
    "            column_choice = int(input(\"Which column do you wants to play? (0,1,2): \"))\n",
    "            row_choice = int(input(\"Which row do you wants to play? (0,1,2): \"))\n",
    "            game, played = game_board(game, current_player, row_choice, column_choice)"
   ]
  },
  {
   "cell_type": "code",
   "execution_count": 155,
   "metadata": {},
   "outputs": [],
   "source": [
    "# We will try to modify the win function a little bit to remove the repetition of code.\n",
    "def win(current_game):\n",
    "    def all_same(l):\n",
    "        if l.count(row[0]) == len(l) and l[0] != 0:\n",
    "            return True\n",
    "        else:\n",
    "            return False\n",
    "    # Horizontal\n",
    "    for row in current_game:\n",
    "        print(row)\n",
    "        if all_same(row): \n",
    "        #count function count the no. of occurrences of row[0] in the list row.\n",
    "            print(f\"Player {row[0]} is the winner horizontally\")\n",
    "            return True\n",
    "    \n",
    "    # Vertical\n",
    "    for col in range(len(current_game)):\n",
    "        check = []\n",
    "        for row in current_game:\n",
    "            check.append(row[col])\n",
    "        if all_same(check):\n",
    "            print(f\"Player {check[0]} is the winner vertically\")\n",
    "            return True\n",
    "    \n",
    "    #Diagonal\n",
    "    diag = []\n",
    "    for ix in range(len(current_game)):\n",
    "        diag.append(current_game[ix][ix])\n",
    "    \n",
    "    if all_same(diag):\n",
    "        print(f\"Player {diag[0]} is the winner diagonally (\\\\)\")\n",
    "        return True\n",
    "            \n",
    "    diag = []\n",
    "\n",
    "    for idx,reverse_idx in enumerate(reversed(range(len(current_game)))):\n",
    "        diag.append(current_game[idx][reverse_idx])\n",
    "\n",
    "    if all_same(diag):\n",
    "        print(f\"Player {diag[0]} is the winner diagonally (/)\")\n",
    "        return True\n",
    "    \n",
    "    return False"
   ]
  },
  {
   "cell_type": "code",
   "execution_count": 167,
   "metadata": {},
   "outputs": [
    {
     "name": "stdout",
     "output_type": "stream",
     "text": [
      "   0  1  2\n",
      "0 [0, 0, 0]\n",
      "1 [0, 0, 0]\n",
      "2 [0, 0, 0]\n",
      "Current Player : 1\n",
      "Which column do you wants to play? (0,1,2): 0\n",
      "Which row do you wants to play? (0,1,2): 0\n",
      "   0  1  2\n",
      "0 [1, 0, 0]\n",
      "1 [0, 0, 0]\n",
      "2 [0, 0, 0]\n",
      "[1, 0, 0]\n",
      "[0, 0, 0]\n",
      "[0, 0, 0]\n",
      "Current Player : 2\n",
      "Which column do you wants to play? (0,1,2): 1\n",
      "Which row do you wants to play? (0,1,2): 2\n",
      "   0  1  2\n",
      "0 [1, 0, 0]\n",
      "1 [0, 0, 0]\n",
      "2 [0, 2, 0]\n",
      "[1, 0, 0]\n",
      "[0, 0, 0]\n",
      "[0, 2, 0]\n",
      "Current Player : 1\n",
      "Which column do you wants to play? (0,1,2): 0\n",
      "Which row do you wants to play? (0,1,2): 1\n",
      "   0  1  2\n",
      "0 [1, 0, 0]\n",
      "1 [1, 0, 0]\n",
      "2 [0, 2, 0]\n",
      "[1, 0, 0]\n",
      "[1, 0, 0]\n",
      "[0, 2, 0]\n",
      "Current Player : 2\n",
      "Which column do you wants to play? (0,1,2): 2\n",
      "Which row do you wants to play? (0,1,2): 1\n",
      "   0  1  2\n",
      "0 [1, 0, 0]\n",
      "1 [1, 0, 2]\n",
      "2 [0, 2, 0]\n",
      "[1, 0, 0]\n",
      "[1, 0, 2]\n",
      "[0, 2, 0]\n",
      "Current Player : 1\n",
      "Which column do you wants to play? (0,1,2): 0\n",
      "Which row do you wants to play? (0,1,2): 2\n",
      "   0  1  2\n",
      "0 [1, 0, 0]\n",
      "1 [1, 0, 2]\n",
      "2 [1, 2, 0]\n",
      "[1, 0, 0]\n",
      "[1, 0, 2]\n",
      "[1, 2, 0]\n",
      "Player 1 is the winner vertically\n",
      "Would you like to play again? (y/n) : n\n",
      "Exit!!\n"
     ]
    }
   ],
   "source": [
    "# Now we need to add win condition in our game.\n",
    "play = True # We want players to play as long as they want to. This variable is going to take care of that\n",
    "players = [1, 2]\n",
    "while play:\n",
    "    game = [[0,0,0],\n",
    "            [0,0,0],\n",
    "            [0,0,0],]\n",
    "    \n",
    "    game_won = False # We will play as long as someone win the game and then start with a new game.\n",
    "    game, _ = game_board(game, just_display = True)\n",
    "    player = itertools.cycle([1,2])\n",
    "    while not game_won:\n",
    "        current_player = next(player)\n",
    "        print(f\"Current Player : {current_player}\")\n",
    "        played = False\n",
    "        while not played:\n",
    "            column_choice = int(input(\"Which column do you wants to play? (0,1,2): \"))\n",
    "            row_choice = int(input(\"Which row do you wants to play? (0,1,2): \"))\n",
    "            game, played = game_board(game, current_player, row_choice, column_choice)\n",
    "            \n",
    "        if win(game):\n",
    "            game_won = True\n",
    "            again = input(\"Would you like to play again? (y/n) : \")\n",
    "            if again.lower() == \"y\":\n",
    "                print(\"Restarting\")\n",
    "            elif again.lower() == \"n\":\n",
    "                print(\"Exit!!\")\n",
    "                play = False\n",
    "            else:\n",
    "                print(\"Not a valid answer, see u later!!\")\n",
    "                play = False"
   ]
  },
  {
   "cell_type": "code",
   "execution_count": 168,
   "metadata": {},
   "outputs": [
    {
     "name": "stdout",
     "output_type": "stream",
     "text": [
      "   0  1  2\n",
      "0 [0, 0, 0]\n",
      "1 [0, 0, 0]\n",
      "2 [0, 0, 0]\n",
      "Current Player : 1\n",
      "Which column do you wants to play? (0,1,2): 0\n",
      "Which row do you wants to play? (0,1,2): 0\n",
      "   0  1  2\n",
      "0 [1, 0, 0]\n",
      "1 [0, 0, 0]\n",
      "2 [0, 0, 0]\n",
      "[1, 0, 0]\n",
      "[0, 0, 0]\n",
      "[0, 0, 0]\n",
      "Current Player : 2\n",
      "Which column do you wants to play? (0,1,2): 1\n",
      "Which row do you wants to play? (0,1,2): 2\n",
      "   0  1  2\n",
      "0 [1, 0, 0]\n",
      "1 [0, 0, 0]\n",
      "2 [0, 2, 0]\n",
      "[1, 0, 0]\n",
      "[0, 0, 0]\n",
      "[0, 2, 0]\n",
      "Current Player : 1\n",
      "Which column do you wants to play? (0,1,2): 0\n",
      "Which row do you wants to play? (0,1,2): 1\n",
      "   0  1  2\n",
      "0 [1, 0, 0]\n",
      "1 [1, 0, 0]\n",
      "2 [0, 2, 0]\n",
      "[1, 0, 0]\n",
      "[1, 0, 0]\n",
      "[0, 2, 0]\n",
      "Current Player : 2\n",
      "Which column do you wants to play? (0,1,2): 2\n",
      "Which row do you wants to play? (0,1,2): 1\n",
      "   0  1  2\n",
      "0 [1, 0, 0]\n",
      "1 [1, 0, 2]\n",
      "2 [0, 2, 0]\n",
      "[1, 0, 0]\n",
      "[1, 0, 2]\n",
      "[0, 2, 0]\n",
      "Current Player : 1\n",
      "Which column do you wants to play? (0,1,2): 0\n",
      "Which row do you wants to play? (0,1,2): 2\n",
      "   0  1  2\n",
      "0 [1, 0, 0]\n",
      "1 [1, 0, 2]\n",
      "2 [1, 2, 0]\n",
      "[1, 0, 0]\n",
      "[1, 0, 2]\n",
      "[1, 2, 0]\n",
      "Player 1 is the winner vertically\n",
      "Would you like to play again? (y/n) : n\n",
      "Exit!!\n"
     ]
    }
   ],
   "source": [
    "# Now our tic tac toe game is ready\n",
    "# Let's put it together in one place\n",
    "def game_board(game, player = 0, row = 0, column = 0, just_display = False):\n",
    "    try :\n",
    "        if game[row][column] != 0:\n",
    "            print(\"This position is occupied!! Choose another position\")\n",
    "            return game, False\n",
    "        if not just_display:\n",
    "            game[row][column] = player\n",
    "        print(\"   \"+\"  \".join(str(i) for i in range(len(game))))\n",
    "        for count,row in enumerate(game):\n",
    "            print(count, row)\n",
    "        return game, True\n",
    "    except IndexError as e:\n",
    "        print(\"Row and column should be between 0 and 2.\",e)\n",
    "        return game, False\n",
    "    except Exception as e:\n",
    "        print(\"Something went very wrong!!!\",e)\n",
    "        return game, False   \n",
    "\n",
    "def win(current_game):\n",
    "    def all_same(l):\n",
    "        if l.count(row[0]) == len(l) and l[0] != 0:\n",
    "            return True\n",
    "        else:\n",
    "            return False\n",
    "    # Horizontal\n",
    "    for row in current_game:\n",
    "        print(row)\n",
    "        if all_same(row): \n",
    "        #count function count the no. of occurrences of row[0] in the list row.\n",
    "            print(f\"Player {row[0]} is the winner horizontally\")\n",
    "            return True\n",
    "    \n",
    "    # Vertical\n",
    "    for col in range(len(current_game)):\n",
    "        check = []\n",
    "        for row in current_game:\n",
    "            check.append(row[col])\n",
    "        if all_same(check):\n",
    "            print(f\"Player {check[0]} is the winner vertically\")\n",
    "            return True\n",
    "    \n",
    "    #Diagonal\n",
    "    diag = []\n",
    "    for ix in range(len(current_game)):\n",
    "        diag.append(current_game[ix][ix])\n",
    "    \n",
    "    if all_same(diag):\n",
    "        print(f\"Player {diag[0]} is the winner diagonally (\\\\)\")\n",
    "        return True\n",
    "            \n",
    "    diag = []\n",
    "\n",
    "    for idx,reverse_idx in enumerate(reversed(range(len(current_game)))):\n",
    "        diag.append(current_game[idx][reverse_idx])\n",
    "\n",
    "    if all_same(diag):\n",
    "        print(f\"Player {diag[0]} is the winner diagonally (/)\")\n",
    "        return True\n",
    "    \n",
    "    return False\n",
    "\n",
    "play = True # We want players to play as long as they want to. This variable is going to take care of that\n",
    "players = [1, 2]\n",
    "while play:\n",
    "    game = [[0,0,0],\n",
    "            [0,0,0],\n",
    "            [0,0,0],]\n",
    "    \n",
    "    game_won = False # We will play as long as someone win the game and then start with a new game.\n",
    "    game, _ = game_board(game, just_display = True)\n",
    "    player = itertools.cycle([1,2])\n",
    "    while not game_won:\n",
    "        current_player = next(player)\n",
    "        print(f\"Current Player : {current_player}\")\n",
    "        played = False\n",
    "        while not played:\n",
    "            column_choice = int(input(\"Which column do you wants to play? (0,1,2): \"))\n",
    "            row_choice = int(input(\"Which row do you wants to play? (0,1,2): \"))\n",
    "            game, played = game_board(game, current_player, row_choice, column_choice)\n",
    "            \n",
    "        if win(game):\n",
    "            game_won = True\n",
    "            again = input(\"Would you like to play again? (y/n) : \")\n",
    "            if again.lower() == \"y\":\n",
    "                print(\"Restarting\")\n",
    "            elif again.lower() == \"n\":\n",
    "                print(\"Exit!!\")\n",
    "                play = False\n",
    "            else:\n",
    "                print(\"Not a valid answer, see u later!!\")\n",
    "                play = False\n",
    "                \n"
   ]
  },
  {
   "cell_type": "code",
   "execution_count": 174,
   "metadata": {},
   "outputs": [
    {
     "name": "stdout",
     "output_type": "stream",
     "text": [
      "[[0, 0, 0, 0, 0], [0, 0, 0, 0, 0], [0, 0, 0, 0, 0], [0, 0, 0, 0, 0], [0, 0, 0, 0, 0]]\n"
     ]
    }
   ],
   "source": [
    "# Now we can do one more thing to make the game_size more dynamic\n",
    "game_size = 5 # Just enter any size.\n",
    "\n",
    "game = []\n",
    "for i in range(game_size):\n",
    "    row = []\n",
    "    for j in range(game_size):\n",
    "        row.append(0)\n",
    "    game.append(row)\n",
    "\n",
    "print(game)"
   ]
  },
  {
   "cell_type": "markdown",
   "metadata": {},
   "source": [
    "# Dictionaries"
   ]
  },
  {
   "cell_type": "code",
   "execution_count": 169,
   "metadata": {},
   "outputs": [
    {
     "name": "stdout",
     "output_type": "stream",
     "text": [
      "{'key1': 5, 'key2': 3}\n"
     ]
    }
   ],
   "source": [
    "# Distionaries are python objects that allows us to store values by keys.\n",
    "dictionaries = {\"key1\":5, \"key2\":3}\n",
    "print(dictionaries)"
   ]
  },
  {
   "cell_type": "code",
   "execution_count": 170,
   "metadata": {},
   "outputs": [
    {
     "name": "stdout",
     "output_type": "stream",
     "text": [
      "5\n"
     ]
    }
   ],
   "source": [
    "# Now we can access the value by indexing the keys\n",
    "print(dictionaries[\"key1\"])"
   ]
  },
  {
   "cell_type": "code",
   "execution_count": 171,
   "metadata": {},
   "outputs": [
    {
     "name": "stdout",
     "output_type": "stream",
     "text": [
      "{'key1': 5, 'key2': 3, 'key3': 9}\n"
     ]
    }
   ],
   "source": [
    "# We can also add values to the dictionaries like\n",
    "dictionaries[\"key3\"] = 9\n",
    "print(dictionaries)"
   ]
  },
  {
   "cell_type": "code",
   "execution_count": null,
   "metadata": {},
   "outputs": [],
   "source": []
  }
 ],
 "metadata": {
  "kernelspec": {
   "display_name": "Python 3",
   "language": "python",
   "name": "python3"
  },
  "language_info": {
   "codemirror_mode": {
    "name": "ipython",
    "version": 3
   },
   "file_extension": ".py",
   "mimetype": "text/x-python",
   "name": "python",
   "nbconvert_exporter": "python",
   "pygments_lexer": "ipython3",
   "version": "3.6.5"
  }
 },
 "nbformat": 4,
 "nbformat_minor": 2
}
