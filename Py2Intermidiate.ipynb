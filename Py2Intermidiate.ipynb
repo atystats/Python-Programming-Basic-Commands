{
 "cells": [
  {
   "cell_type": "markdown",
   "metadata": {},
   "source": [
    "# Python Intermediate"
   ]
  },
  {
   "cell_type": "markdown",
   "metadata": {},
   "source": [
    "## String Concatenation and formatting"
   ]
  },
  {
   "cell_type": "code",
   "execution_count": 2,
   "metadata": {},
   "outputs": [
    {
     "name": "stdout",
     "output_type": "stream",
     "text": [
      "Hello there Jeff\n",
      "Hello there Gary\n",
      "Hello there Jill\n",
      "Hello there Samantha\n"
     ]
    }
   ],
   "source": [
    "# There are multiple ways of concatenating a string\n",
    "names = ['Jeff', 'Gary', 'Jill', 'Samantha']\n",
    "\n",
    "# If we have to concatenate same string to the names.\n",
    "for name in names:\n",
    "    print('Hello there', name)"
   ]
  },
  {
   "cell_type": "code",
   "execution_count": 8,
   "metadata": {},
   "outputs": [
    {
     "name": "stdout",
     "output_type": "stream",
     "text": [
      "Hello there, Jeff\n",
      "Hello there, Gary\n",
      "Hello there, Jill\n",
      "Hello there, Samantha\n"
     ]
    }
   ],
   "source": [
    "# Another way of doing it is to use join function\n",
    "for name in names:\n",
    "    print(' '.join(['Hello there,',name]))"
   ]
  },
  {
   "cell_type": "code",
   "execution_count": 9,
   "metadata": {},
   "outputs": [
    {
     "name": "stdout",
     "output_type": "stream",
     "text": [
      "//Users//ankittyagi//Desktop//Python Tutorial//example.txt\n"
     ]
    }
   ],
   "source": [
    "# Now let's say we want to open a file or a number of files from a location.\n",
    "location_of_file = \"//Users//ankittyagi//Desktop//Python Tutorial\"\n",
    "file_name = \"example.txt\"\n",
    "# one way to concatenate these 2 strings is\n",
    "print(location_of_file + \"//\" + file_name) "
   ]
  },
  {
   "cell_type": "code",
   "execution_count": 10,
   "metadata": {},
   "outputs": [
    {
     "name": "stdout",
     "output_type": "stream",
     "text": [
      "Hello Universe\n"
     ]
    }
   ],
   "source": [
    "# Another way to do that is to use os.path.join() function that automatically // as well \n",
    "import os\n",
    "with open(os.path.join(location_of_file, file_name)) as f:\n",
    "    print(f.read())"
   ]
  },
  {
   "cell_type": "code",
   "execution_count": 11,
   "metadata": {},
   "outputs": [
    {
     "name": "stdout",
     "output_type": "stream",
     "text": [
      "Gary bought 12 apples today\n"
     ]
    }
   ],
   "source": [
    "# Now let's concatenate more than two string and see the right way to do that.\n",
    "who = 'Gary'\n",
    "how_many = 12\n",
    "\n",
    "print(who, \"bought\", how_many, \"apples today\")"
   ]
  },
  {
   "cell_type": "code",
   "execution_count": 12,
   "metadata": {},
   "outputs": [
    {
     "name": "stdout",
     "output_type": "stream",
     "text": [
      "Gary bought 12 apples today\n"
     ]
    }
   ],
   "source": [
    "# The right way of doing that is \n",
    "print('{} bought {} apples today'.format(who, how_many)) # Note that the variable needs to be in the sequence"
   ]
  },
  {
   "cell_type": "code",
   "execution_count": 14,
   "metadata": {},
   "outputs": [
    {
     "name": "stdout",
     "output_type": "stream",
     "text": [
      "Gary bought 12 apples today\n"
     ]
    }
   ],
   "source": [
    "# We can also assign numbers to the string\n",
    "print('{0} bought {1} apples today'.format(who, how_many))"
   ]
  },
  {
   "cell_type": "code",
   "execution_count": 15,
   "metadata": {},
   "outputs": [
    {
     "name": "stdout",
     "output_type": "stream",
     "text": [
      "12 bought Gary apples today\n"
     ]
    }
   ],
   "source": [
    "# We can also assign numbers to the string\n",
    "print('{1} bought {0} apples today'.format(who, how_many))"
   ]
  },
  {
   "cell_type": "markdown",
   "metadata": {},
   "source": [
    "## List Comprehensions and generators"
   ]
  },
  {
   "cell_type": "code",
   "execution_count": 19,
   "metadata": {},
   "outputs": [],
   "source": [
    "# List Comprehensions in python works faster as they save in the memory.\n",
    "# generators do not save anything in the memory. \n",
    "# For eg. range(5) do not create a list but create a stream between 0 and 5"
   ]
  },
  {
   "cell_type": "code",
   "execution_count": 21,
   "metadata": {},
   "outputs": [
    {
     "name": "stdout",
     "output_type": "stream",
     "text": [
      "[0, 1, 2, 3, 4]\n",
      "[0, 1, 2, 3, 4]\n"
     ]
    }
   ],
   "source": [
    "# An example of list comprehension\n",
    "xyz = [i for i in range(5)]\n",
    "print(xyz)\n",
    "\n",
    "xyz = []\n",
    "#This is equivalent to \n",
    "for i in range(5):\n",
    "    xyz.append(i)\n",
    "    \n",
    "print(xyz)"
   ]
  },
  {
   "cell_type": "code",
   "execution_count": 22,
   "metadata": {},
   "outputs": [],
   "source": [
    "# The problem is that we cannot use a very high value in range because list comprehensions save in the memory and \n",
    "# hence blow it up for a very high value.\n",
    "# This is where generators have an advantage."
   ]
  },
  {
   "cell_type": "code",
   "execution_count": 24,
   "metadata": {},
   "outputs": [
    {
     "name": "stdout",
     "output_type": "stream",
     "text": [
      "<generator object <genexpr> at 0x105e54620>\n"
     ]
    }
   ],
   "source": [
    "# An example of generator\n",
    "xyz = (i for i in range(5))\n",
    "print(xyz)\n",
    "# This does not save in the memory. So we can get away with a very high number as well."
   ]
  },
  {
   "cell_type": "code",
   "execution_count": 26,
   "metadata": {},
   "outputs": [
    {
     "name": "stdout",
     "output_type": "stream",
     "text": [
      "0\n",
      "1\n",
      "2\n",
      "3\n",
      "4\n"
     ]
    }
   ],
   "source": [
    "# We can not use it directly, we again have to iterate over it.\n",
    "for i in xyz:\n",
    "    print(i)"
   ]
  },
  {
   "cell_type": "code",
   "execution_count": 27,
   "metadata": {},
   "outputs": [],
   "source": [
    "# Now we can also conditions to the list comprehensions. For e.g.\n",
    "input_list = [5,6,2,1,6,7,10,12]\n",
    "# Let's say we want the list of numbers from input_list that are divisible by 5 and there is a fucntion for that.\n",
    "def div_by_five(num):\n",
    "    if num%5 == 0:\n",
    "        return True\n",
    "    else:\n",
    "        return False"
   ]
  },
  {
   "cell_type": "code",
   "execution_count": 28,
   "metadata": {},
   "outputs": [
    {
     "name": "stdout",
     "output_type": "stream",
     "text": [
      "[5, 10]\n"
     ]
    }
   ],
   "source": [
    "# Now we can write a comprehension like\n",
    "xyz = (i for i in input_list if div_by_five(i)) # a generator\n",
    "print(list(xyz)) # converting to a list"
   ]
  },
  {
   "cell_type": "code",
   "execution_count": 29,
   "metadata": {},
   "outputs": [],
   "source": [
    "# We can also write a list comprehension"
   ]
  },
  {
   "cell_type": "code",
   "execution_count": 30,
   "metadata": {},
   "outputs": [
    {
     "data": {
      "text/plain": [
       "[5, 10]"
      ]
     },
     "execution_count": 30,
     "metadata": {},
     "output_type": "execute_result"
    }
   ],
   "source": [
    "[i for i in input_list if div_by_five(i)]"
   ]
  },
  {
   "cell_type": "code",
   "execution_count": 31,
   "metadata": {},
   "outputs": [
    {
     "name": "stdout",
     "output_type": "stream",
     "text": [
      "[5, 10]\n"
     ]
    }
   ],
   "source": [
    "# The above code is equivalent to \n",
    "xyz = []\n",
    "for i in input_list:\n",
    "    if div_by_five(i) == True:\n",
    "        xyz.append(i)\n",
    "print(xyz)"
   ]
  },
  {
   "cell_type": "code",
   "execution_count": 32,
   "metadata": {},
   "outputs": [
    {
     "data": {
      "text/plain": [
       "[[(0, 0), (1, 0), (2, 0), (3, 0), (4, 0)],\n",
       " [(0, 1), (1, 1), (2, 1), (3, 1), (4, 1)],\n",
       " [(0, 2), (1, 2), (2, 2), (3, 2), (4, 2)],\n",
       " [(0, 3), (1, 3), (2, 3), (3, 3), (4, 3)],\n",
       " [(0, 4), (1, 4), (2, 4), (3, 4), (4, 4)]]"
      ]
     },
     "execution_count": 32,
     "metadata": {},
     "output_type": "execute_result"
    }
   ],
   "source": [
    "# We can also write nested for loops in terms of comprehensions.\n",
    "[[(i,ii) for i in range(5)] for ii in range(5)]\n",
    "# This will create all combination of 0 to 4."
   ]
  },
  {
   "cell_type": "code",
   "execution_count": 33,
   "metadata": {},
   "outputs": [
    {
     "name": "stdout",
     "output_type": "stream",
     "text": [
      "0 0\n",
      "1 0\n",
      "2 0\n",
      "3 0\n",
      "4 0\n",
      "0 1\n",
      "1 1\n",
      "2 1\n",
      "3 1\n",
      "4 1\n",
      "0 2\n",
      "1 2\n",
      "2 2\n",
      "3 2\n",
      "4 2\n",
      "0 3\n",
      "1 3\n",
      "2 3\n",
      "3 3\n",
      "4 3\n",
      "0 4\n",
      "1 4\n",
      "2 4\n",
      "3 4\n",
      "4 4\n"
     ]
    }
   ],
   "source": [
    "# This is equivalent to\n",
    "for ii in range(5):\n",
    "    for i in range(5):\n",
    "        print(i,ii)"
   ]
  },
  {
   "cell_type": "markdown",
   "metadata": {},
   "source": [
    "## Timeit module"
   ]
  },
  {
   "cell_type": "code",
   "execution_count": 35,
   "metadata": {},
   "outputs": [],
   "source": [
    "# Timeit is used to check how much time it takes a code to run.\n",
    "# In case we are comparing 2 piece of code for same operation we can do that using timeit. \n",
    "# Timeit has an argument numbers that we can use to define how many time we want to run that code and return average time."
   ]
  },
  {
   "cell_type": "code",
   "execution_count": 37,
   "metadata": {},
   "outputs": [
    {
     "name": "stdout",
     "output_type": "stream",
     "text": [
      "0.00011822700616903603\n"
     ]
    }
   ],
   "source": [
    "import timeit\n",
    "print(timeit.timeit('1+3', number = 5000))"
   ]
  },
  {
   "cell_type": "code",
   "execution_count": 39,
   "metadata": {},
   "outputs": [],
   "source": [
    "# This is how much time it takes on an average to calculate 1+3."
   ]
  },
  {
   "cell_type": "code",
   "execution_count": 40,
   "metadata": {},
   "outputs": [
    {
     "name": "stdout",
     "output_type": "stream",
     "text": [
      "0.000372606999007985\n"
     ]
    }
   ],
   "source": [
    "print(timeit.timeit('''\n",
    "input_list = [5,6,2,1,6,7,10,12]\n",
    "\n",
    "def div_by_five(num):\n",
    "    if num%5 == 0:\n",
    "        return True\n",
    "    else:\n",
    "        return False\n",
    "        \n",
    "xyz = (i for i in input_list if div_by_five(i))\n",
    "''', number = 500))"
   ]
  },
  {
   "cell_type": "code",
   "execution_count": 41,
   "metadata": {},
   "outputs": [
    {
     "name": "stdout",
     "output_type": "stream",
     "text": [
      "0.0010006270022131503\n"
     ]
    }
   ],
   "source": [
    "print(timeit.timeit('''\n",
    "input_list = [5,6,2,1,6,7,10,12]\n",
    "\n",
    "def div_by_five(num):\n",
    "    if num%5 == 0:\n",
    "        return True\n",
    "    else:\n",
    "        return False\n",
    "        \n",
    "xyz = [i for i in input_list if div_by_five(i)]\n",
    "''', number = 500))"
   ]
  },
  {
   "cell_type": "code",
   "execution_count": 43,
   "metadata": {},
   "outputs": [],
   "source": [
    "# Obviously creating a list takes a lot more time than creating a generator.\n",
    "# While running timeit, we need to put everything in the timeit fucntion including all the variable definitions as well."
   ]
  },
  {
   "cell_type": "markdown",
   "metadata": {},
   "source": [
    "## Enumerate()"
   ]
  },
  {
   "cell_type": "code",
   "execution_count": 44,
   "metadata": {},
   "outputs": [],
   "source": [
    "# enumerate function returns the value in a list with its index"
   ]
  },
  {
   "cell_type": "code",
   "execution_count": 46,
   "metadata": {},
   "outputs": [
    {
     "name": "stdout",
     "output_type": "stream",
     "text": [
      "0 left\n",
      "1 right\n",
      "2 up\n",
      "3 down\n"
     ]
    }
   ],
   "source": [
    "input = example = ['left','right','up','down']\n",
    "for i, j in enumerate(input):\n",
    "    print(i,j)"
   ]
  },
  {
   "cell_type": "code",
   "execution_count": 49,
   "metadata": {},
   "outputs": [
    {
     "name": "stdout",
     "output_type": "stream",
     "text": [
      "0 left\n",
      "1 right\n",
      "2 up\n",
      "3 down\n"
     ]
    }
   ],
   "source": [
    "# This is equivalent to \n",
    "for i in range(len(input)):\n",
    "    print(i, input[i])"
   ]
  },
  {
   "cell_type": "code",
   "execution_count": 51,
   "metadata": {},
   "outputs": [
    {
     "name": "stdout",
     "output_type": "stream",
     "text": [
      "{0: 'left', 1: 'right', 2: 'up', 3: 'down'}\n"
     ]
    }
   ],
   "source": [
    "# We can also use enumerate to create dictionaries\n",
    "new_dict = dict(enumerate(input))\n",
    "print(new_dict)"
   ]
  },
  {
   "cell_type": "markdown",
   "metadata": {},
   "source": [
    "## zip()"
   ]
  },
  {
   "cell_type": "code",
   "execution_count": 52,
   "metadata": {},
   "outputs": [],
   "source": [
    "# zip function can be used to tie together two or more list in one where elements from the shared indexes are together."
   ]
  },
  {
   "cell_type": "code",
   "execution_count": 53,
   "metadata": {},
   "outputs": [
    {
     "name": "stdout",
     "output_type": "stream",
     "text": [
      "1 7\n",
      "2 8\n",
      "3 3\n",
      "4 2\n"
     ]
    }
   ],
   "source": [
    "x = [1,2,3,4]\n",
    "y = [7,8,3,2]\n",
    "z = ['a','b','c','d']\n",
    "\n",
    "for a,b in zip(x,y):\n",
    "    print(a,b)"
   ]
  },
  {
   "cell_type": "code",
   "execution_count": 54,
   "metadata": {},
   "outputs": [
    {
     "name": "stdout",
     "output_type": "stream",
     "text": [
      "1 7 a\n",
      "2 8 b\n",
      "3 3 c\n",
      "4 2 d\n"
     ]
    }
   ],
   "source": [
    "# We can also combine more than 2\n",
    "for a,b,c in zip(x,y,z):\n",
    "    print(a,b,c)"
   ]
  },
  {
   "cell_type": "code",
   "execution_count": 55,
   "metadata": {},
   "outputs": [
    {
     "name": "stdout",
     "output_type": "stream",
     "text": [
      "<zip object at 0x105e6afc8>\n"
     ]
    }
   ],
   "source": [
    "# zip function creates a zip object not a list\n",
    "print(zip(x,y))"
   ]
  },
  {
   "cell_type": "code",
   "execution_count": 56,
   "metadata": {},
   "outputs": [
    {
     "data": {
      "text/plain": [
       "[(1, 7, 'a'), (2, 8, 'b'), (3, 3, 'c'), (4, 2, 'd')]"
      ]
     },
     "execution_count": 56,
     "metadata": {},
     "output_type": "execute_result"
    }
   ],
   "source": [
    "# We can convert it into list. It will create tuples of elements from each shared list.\n",
    "list(zip(x,y,z))"
   ]
  },
  {
   "cell_type": "code",
   "execution_count": 58,
   "metadata": {},
   "outputs": [
    {
     "data": {
      "text/plain": [
       "{1: 7, 2: 8, 3: 3, 4: 2}"
      ]
     },
     "execution_count": 58,
     "metadata": {},
     "output_type": "execute_result"
    }
   ],
   "source": [
    "# We can also create dictionary from zip\n",
    "dict(zip(x,y))"
   ]
  },
  {
   "cell_type": "code",
   "execution_count": 59,
   "metadata": {},
   "outputs": [
    {
     "name": "stdout",
     "output_type": "stream",
     "text": [
      "1 7 a\n",
      "2 8 b\n",
      "3 3 c\n",
      "4 2 d\n"
     ]
    },
    {
     "data": {
      "text/plain": [
       "[None, None, None, None]"
      ]
     },
     "execution_count": 59,
     "metadata": {},
     "output_type": "execute_result"
    }
   ],
   "source": [
    "# zip can be used in list comprehensions as well.\n",
    "[print(a,b,c) for a,b,c in zip(x,y,z)]"
   ]
  },
  {
   "cell_type": "code",
   "execution_count": null,
   "metadata": {},
   "outputs": [],
   "source": []
  }
 ],
 "metadata": {
  "kernelspec": {
   "display_name": "Python 3",
   "language": "python",
   "name": "python3"
  },
  "language_info": {
   "codemirror_mode": {
    "name": "ipython",
    "version": 3
   },
   "file_extension": ".py",
   "mimetype": "text/x-python",
   "name": "python",
   "nbconvert_exporter": "python",
   "pygments_lexer": "ipython3",
   "version": "3.6.5"
  }
 },
 "nbformat": 4,
 "nbformat_minor": 2
}
